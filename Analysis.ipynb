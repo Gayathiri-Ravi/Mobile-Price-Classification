{
 "cells": [
  {
   "cell_type": "code",
   "execution_count": 1,
   "id": "647c2131",
   "metadata": {},
   "outputs": [],
   "source": [
    "## pandas and numpy\n",
    "import pandas as pd\n",
    "import numpy as np\n",
    "## visualizations\n",
    "import matplotlib.pyplot as plt\n",
    "import seaborn as sns\n",
    "## Machine learning\n",
    "from sklearn.linear_model import LogisticRegression\n",
    "from sklearn.neighbors import KNeighborsClassifier\n",
    "from sklearn.tree import DecisionTreeClassifier\n",
    "from sklearn.ensemble import RandomForestClassifier, GradientBoostingClassifier \n",
    "from xgboost import XGBClassifier, XGBRFClassifier\n",
    "from catboost import CatBoostClassifier\n",
    "from lightgbm import LGBMClassifier\n",
    "from sklearn.model_selection import train_test_split\n",
    "from sklearn.metrics import accuracy_score, classification_report, confusion_matrix, roc_auc_score, roc_curve\n",
    "import pickle\n",
    "## other\n",
    "import warnings\n",
    "warnings.filterwarnings('ignore')\n",
    "pd.set_option('display.max_columns',None)"
   ]
  },
  {
   "cell_type": "markdown",
   "id": "133ec5dc",
   "metadata": {},
   "source": [
    "### Importing the data"
   ]
  },
  {
   "cell_type": "code",
   "execution_count": 2,
   "id": "5d8937ad",
   "metadata": {},
   "outputs": [],
   "source": [
    "df1 = pd.read_csv('train.csv')\n",
    "df2 = pd.read_csv('test.csv')"
   ]
  },
  {
   "cell_type": "code",
   "execution_count": 3,
   "id": "93ec9c28",
   "metadata": {},
   "outputs": [
    {
     "name": "stdout",
     "output_type": "stream",
     "text": [
      "(2000, 21)\n"
     ]
    },
    {
     "data": {
      "text/html": [
       "<div>\n",
       "<style scoped>\n",
       "    .dataframe tbody tr th:only-of-type {\n",
       "        vertical-align: middle;\n",
       "    }\n",
       "\n",
       "    .dataframe tbody tr th {\n",
       "        vertical-align: top;\n",
       "    }\n",
       "\n",
       "    .dataframe thead th {\n",
       "        text-align: right;\n",
       "    }\n",
       "</style>\n",
       "<table border=\"1\" class=\"dataframe\">\n",
       "  <thead>\n",
       "    <tr style=\"text-align: right;\">\n",
       "      <th></th>\n",
       "      <th>battery_power</th>\n",
       "      <th>blue</th>\n",
       "      <th>clock_speed</th>\n",
       "      <th>dual_sim</th>\n",
       "      <th>fc</th>\n",
       "      <th>four_g</th>\n",
       "      <th>int_memory</th>\n",
       "      <th>m_dep</th>\n",
       "      <th>mobile_wt</th>\n",
       "      <th>n_cores</th>\n",
       "      <th>pc</th>\n",
       "      <th>px_height</th>\n",
       "      <th>px_width</th>\n",
       "      <th>ram</th>\n",
       "      <th>sc_h</th>\n",
       "      <th>sc_w</th>\n",
       "      <th>talk_time</th>\n",
       "      <th>three_g</th>\n",
       "      <th>touch_screen</th>\n",
       "      <th>wifi</th>\n",
       "      <th>price_range</th>\n",
       "    </tr>\n",
       "  </thead>\n",
       "  <tbody>\n",
       "    <tr>\n",
       "      <th>0</th>\n",
       "      <td>842</td>\n",
       "      <td>0</td>\n",
       "      <td>2.2</td>\n",
       "      <td>0</td>\n",
       "      <td>1</td>\n",
       "      <td>0</td>\n",
       "      <td>7</td>\n",
       "      <td>0.6</td>\n",
       "      <td>188</td>\n",
       "      <td>2</td>\n",
       "      <td>2</td>\n",
       "      <td>20</td>\n",
       "      <td>756</td>\n",
       "      <td>2549</td>\n",
       "      <td>9</td>\n",
       "      <td>7</td>\n",
       "      <td>19</td>\n",
       "      <td>0</td>\n",
       "      <td>0</td>\n",
       "      <td>1</td>\n",
       "      <td>1</td>\n",
       "    </tr>\n",
       "    <tr>\n",
       "      <th>1</th>\n",
       "      <td>1021</td>\n",
       "      <td>1</td>\n",
       "      <td>0.5</td>\n",
       "      <td>1</td>\n",
       "      <td>0</td>\n",
       "      <td>1</td>\n",
       "      <td>53</td>\n",
       "      <td>0.7</td>\n",
       "      <td>136</td>\n",
       "      <td>3</td>\n",
       "      <td>6</td>\n",
       "      <td>905</td>\n",
       "      <td>1988</td>\n",
       "      <td>2631</td>\n",
       "      <td>17</td>\n",
       "      <td>3</td>\n",
       "      <td>7</td>\n",
       "      <td>1</td>\n",
       "      <td>1</td>\n",
       "      <td>0</td>\n",
       "      <td>2</td>\n",
       "    </tr>\n",
       "    <tr>\n",
       "      <th>2</th>\n",
       "      <td>563</td>\n",
       "      <td>1</td>\n",
       "      <td>0.5</td>\n",
       "      <td>1</td>\n",
       "      <td>2</td>\n",
       "      <td>1</td>\n",
       "      <td>41</td>\n",
       "      <td>0.9</td>\n",
       "      <td>145</td>\n",
       "      <td>5</td>\n",
       "      <td>6</td>\n",
       "      <td>1263</td>\n",
       "      <td>1716</td>\n",
       "      <td>2603</td>\n",
       "      <td>11</td>\n",
       "      <td>2</td>\n",
       "      <td>9</td>\n",
       "      <td>1</td>\n",
       "      <td>1</td>\n",
       "      <td>0</td>\n",
       "      <td>2</td>\n",
       "    </tr>\n",
       "    <tr>\n",
       "      <th>3</th>\n",
       "      <td>615</td>\n",
       "      <td>1</td>\n",
       "      <td>2.5</td>\n",
       "      <td>0</td>\n",
       "      <td>0</td>\n",
       "      <td>0</td>\n",
       "      <td>10</td>\n",
       "      <td>0.8</td>\n",
       "      <td>131</td>\n",
       "      <td>6</td>\n",
       "      <td>9</td>\n",
       "      <td>1216</td>\n",
       "      <td>1786</td>\n",
       "      <td>2769</td>\n",
       "      <td>16</td>\n",
       "      <td>8</td>\n",
       "      <td>11</td>\n",
       "      <td>1</td>\n",
       "      <td>0</td>\n",
       "      <td>0</td>\n",
       "      <td>2</td>\n",
       "    </tr>\n",
       "    <tr>\n",
       "      <th>4</th>\n",
       "      <td>1821</td>\n",
       "      <td>1</td>\n",
       "      <td>1.2</td>\n",
       "      <td>0</td>\n",
       "      <td>13</td>\n",
       "      <td>1</td>\n",
       "      <td>44</td>\n",
       "      <td>0.6</td>\n",
       "      <td>141</td>\n",
       "      <td>2</td>\n",
       "      <td>14</td>\n",
       "      <td>1208</td>\n",
       "      <td>1212</td>\n",
       "      <td>1411</td>\n",
       "      <td>8</td>\n",
       "      <td>2</td>\n",
       "      <td>15</td>\n",
       "      <td>1</td>\n",
       "      <td>1</td>\n",
       "      <td>0</td>\n",
       "      <td>1</td>\n",
       "    </tr>\n",
       "  </tbody>\n",
       "</table>\n",
       "</div>"
      ],
      "text/plain": [
       "   battery_power  blue  clock_speed  dual_sim  fc  four_g  int_memory  m_dep  \\\n",
       "0            842     0          2.2         0   1       0           7    0.6   \n",
       "1           1021     1          0.5         1   0       1          53    0.7   \n",
       "2            563     1          0.5         1   2       1          41    0.9   \n",
       "3            615     1          2.5         0   0       0          10    0.8   \n",
       "4           1821     1          1.2         0  13       1          44    0.6   \n",
       "\n",
       "   mobile_wt  n_cores  pc  px_height  px_width   ram  sc_h  sc_w  talk_time  \\\n",
       "0        188        2   2         20       756  2549     9     7         19   \n",
       "1        136        3   6        905      1988  2631    17     3          7   \n",
       "2        145        5   6       1263      1716  2603    11     2          9   \n",
       "3        131        6   9       1216      1786  2769    16     8         11   \n",
       "4        141        2  14       1208      1212  1411     8     2         15   \n",
       "\n",
       "   three_g  touch_screen  wifi  price_range  \n",
       "0        0             0     1            1  \n",
       "1        1             1     0            2  \n",
       "2        1             1     0            2  \n",
       "3        1             0     0            2  \n",
       "4        1             1     0            1  "
      ]
     },
     "execution_count": 3,
     "metadata": {},
     "output_type": "execute_result"
    }
   ],
   "source": [
    "print(df1.shape)\n",
    "df1.head()"
   ]
  },
  {
   "cell_type": "code",
   "execution_count": 4,
   "id": "064933ad",
   "metadata": {},
   "outputs": [
    {
     "name": "stdout",
     "output_type": "stream",
     "text": [
      "(1000, 21)\n"
     ]
    },
    {
     "data": {
      "text/html": [
       "<div>\n",
       "<style scoped>\n",
       "    .dataframe tbody tr th:only-of-type {\n",
       "        vertical-align: middle;\n",
       "    }\n",
       "\n",
       "    .dataframe tbody tr th {\n",
       "        vertical-align: top;\n",
       "    }\n",
       "\n",
       "    .dataframe thead th {\n",
       "        text-align: right;\n",
       "    }\n",
       "</style>\n",
       "<table border=\"1\" class=\"dataframe\">\n",
       "  <thead>\n",
       "    <tr style=\"text-align: right;\">\n",
       "      <th></th>\n",
       "      <th>id</th>\n",
       "      <th>battery_power</th>\n",
       "      <th>blue</th>\n",
       "      <th>clock_speed</th>\n",
       "      <th>dual_sim</th>\n",
       "      <th>fc</th>\n",
       "      <th>four_g</th>\n",
       "      <th>int_memory</th>\n",
       "      <th>m_dep</th>\n",
       "      <th>mobile_wt</th>\n",
       "      <th>n_cores</th>\n",
       "      <th>pc</th>\n",
       "      <th>px_height</th>\n",
       "      <th>px_width</th>\n",
       "      <th>ram</th>\n",
       "      <th>sc_h</th>\n",
       "      <th>sc_w</th>\n",
       "      <th>talk_time</th>\n",
       "      <th>three_g</th>\n",
       "      <th>touch_screen</th>\n",
       "      <th>wifi</th>\n",
       "    </tr>\n",
       "  </thead>\n",
       "  <tbody>\n",
       "    <tr>\n",
       "      <th>0</th>\n",
       "      <td>1</td>\n",
       "      <td>1043</td>\n",
       "      <td>1</td>\n",
       "      <td>1.8</td>\n",
       "      <td>1</td>\n",
       "      <td>14</td>\n",
       "      <td>0</td>\n",
       "      <td>5</td>\n",
       "      <td>0.1</td>\n",
       "      <td>193</td>\n",
       "      <td>3</td>\n",
       "      <td>16</td>\n",
       "      <td>226</td>\n",
       "      <td>1412</td>\n",
       "      <td>3476</td>\n",
       "      <td>12</td>\n",
       "      <td>7</td>\n",
       "      <td>2</td>\n",
       "      <td>0</td>\n",
       "      <td>1</td>\n",
       "      <td>0</td>\n",
       "    </tr>\n",
       "    <tr>\n",
       "      <th>1</th>\n",
       "      <td>2</td>\n",
       "      <td>841</td>\n",
       "      <td>1</td>\n",
       "      <td>0.5</td>\n",
       "      <td>1</td>\n",
       "      <td>4</td>\n",
       "      <td>1</td>\n",
       "      <td>61</td>\n",
       "      <td>0.8</td>\n",
       "      <td>191</td>\n",
       "      <td>5</td>\n",
       "      <td>12</td>\n",
       "      <td>746</td>\n",
       "      <td>857</td>\n",
       "      <td>3895</td>\n",
       "      <td>6</td>\n",
       "      <td>0</td>\n",
       "      <td>7</td>\n",
       "      <td>1</td>\n",
       "      <td>0</td>\n",
       "      <td>0</td>\n",
       "    </tr>\n",
       "    <tr>\n",
       "      <th>2</th>\n",
       "      <td>3</td>\n",
       "      <td>1807</td>\n",
       "      <td>1</td>\n",
       "      <td>2.8</td>\n",
       "      <td>0</td>\n",
       "      <td>1</td>\n",
       "      <td>0</td>\n",
       "      <td>27</td>\n",
       "      <td>0.9</td>\n",
       "      <td>186</td>\n",
       "      <td>3</td>\n",
       "      <td>4</td>\n",
       "      <td>1270</td>\n",
       "      <td>1366</td>\n",
       "      <td>2396</td>\n",
       "      <td>17</td>\n",
       "      <td>10</td>\n",
       "      <td>10</td>\n",
       "      <td>0</td>\n",
       "      <td>1</td>\n",
       "      <td>1</td>\n",
       "    </tr>\n",
       "    <tr>\n",
       "      <th>3</th>\n",
       "      <td>4</td>\n",
       "      <td>1546</td>\n",
       "      <td>0</td>\n",
       "      <td>0.5</td>\n",
       "      <td>1</td>\n",
       "      <td>18</td>\n",
       "      <td>1</td>\n",
       "      <td>25</td>\n",
       "      <td>0.5</td>\n",
       "      <td>96</td>\n",
       "      <td>8</td>\n",
       "      <td>20</td>\n",
       "      <td>295</td>\n",
       "      <td>1752</td>\n",
       "      <td>3893</td>\n",
       "      <td>10</td>\n",
       "      <td>0</td>\n",
       "      <td>7</td>\n",
       "      <td>1</td>\n",
       "      <td>1</td>\n",
       "      <td>0</td>\n",
       "    </tr>\n",
       "    <tr>\n",
       "      <th>4</th>\n",
       "      <td>5</td>\n",
       "      <td>1434</td>\n",
       "      <td>0</td>\n",
       "      <td>1.4</td>\n",
       "      <td>0</td>\n",
       "      <td>11</td>\n",
       "      <td>1</td>\n",
       "      <td>49</td>\n",
       "      <td>0.5</td>\n",
       "      <td>108</td>\n",
       "      <td>6</td>\n",
       "      <td>18</td>\n",
       "      <td>749</td>\n",
       "      <td>810</td>\n",
       "      <td>1773</td>\n",
       "      <td>15</td>\n",
       "      <td>8</td>\n",
       "      <td>7</td>\n",
       "      <td>1</td>\n",
       "      <td>0</td>\n",
       "      <td>1</td>\n",
       "    </tr>\n",
       "  </tbody>\n",
       "</table>\n",
       "</div>"
      ],
      "text/plain": [
       "   id  battery_power  blue  clock_speed  dual_sim  fc  four_g  int_memory  \\\n",
       "0   1           1043     1          1.8         1  14       0           5   \n",
       "1   2            841     1          0.5         1   4       1          61   \n",
       "2   3           1807     1          2.8         0   1       0          27   \n",
       "3   4           1546     0          0.5         1  18       1          25   \n",
       "4   5           1434     0          1.4         0  11       1          49   \n",
       "\n",
       "   m_dep  mobile_wt  n_cores  pc  px_height  px_width   ram  sc_h  sc_w  \\\n",
       "0    0.1        193        3  16        226      1412  3476    12     7   \n",
       "1    0.8        191        5  12        746       857  3895     6     0   \n",
       "2    0.9        186        3   4       1270      1366  2396    17    10   \n",
       "3    0.5         96        8  20        295      1752  3893    10     0   \n",
       "4    0.5        108        6  18        749       810  1773    15     8   \n",
       "\n",
       "   talk_time  three_g  touch_screen  wifi  \n",
       "0          2        0             1     0  \n",
       "1          7        1             0     0  \n",
       "2         10        0             1     1  \n",
       "3          7        1             1     0  \n",
       "4          7        1             0     1  "
      ]
     },
     "execution_count": 4,
     "metadata": {},
     "output_type": "execute_result"
    }
   ],
   "source": [
    "print(df2.shape)\n",
    "df2.head()"
   ]
  },
  {
   "cell_type": "markdown",
   "id": "f2de22a1",
   "metadata": {},
   "source": [
    "### Info and data description"
   ]
  },
  {
   "cell_type": "code",
   "execution_count": 5,
   "id": "8c68d1f3",
   "metadata": {},
   "outputs": [],
   "source": [
    "def datainfo():\n",
    "    print('\\n\\nDF1')\n",
    "    print(df1.info())\n",
    "    print('\\n\\nDF2')\n",
    "    print(df2.info())"
   ]
  },
  {
   "cell_type": "code",
   "execution_count": 6,
   "id": "1a08cbbc",
   "metadata": {},
   "outputs": [],
   "source": [
    "# datainfo()"
   ]
  },
  {
   "cell_type": "code",
   "execution_count": 7,
   "id": "a6423ed6",
   "metadata": {},
   "outputs": [],
   "source": [
    "# df1.describe().transpose()"
   ]
  },
  {
   "cell_type": "code",
   "execution_count": 8,
   "id": "0c1ddfb9",
   "metadata": {},
   "outputs": [],
   "source": [
    "# df2.describe().transpose()"
   ]
  },
  {
   "cell_type": "markdown",
   "id": "e0b27564",
   "metadata": {},
   "source": [
    "###  Null value analysis"
   ]
  },
  {
   "cell_type": "code",
   "execution_count": 9,
   "id": "82cd8339",
   "metadata": {},
   "outputs": [],
   "source": [
    "# df1.isnull().sum()\n",
    "# df2.isnull().sum()"
   ]
  },
  {
   "cell_type": "markdown",
   "id": "3202b869",
   "metadata": {},
   "source": [
    "### No Null values are present."
   ]
  },
  {
   "cell_type": "markdown",
   "id": "f3a47509",
   "metadata": {},
   "source": [
    "### Lets now seperate our clean data into tests and train! "
   ]
  },
  {
   "cell_type": "code",
   "execution_count": 10,
   "id": "79f6d0c2",
   "metadata": {},
   "outputs": [],
   "source": [
    "df = df1.copy()\n",
    "test = df2.copy()"
   ]
  },
  {
   "cell_type": "markdown",
   "id": "b373946c",
   "metadata": {},
   "source": [
    "### Data Analysis and Feature Engineering"
   ]
  },
  {
   "cell_type": "code",
   "execution_count": 11,
   "id": "c3954536",
   "metadata": {
    "scrolled": false
   },
   "outputs": [],
   "source": [
    "def datadistrib():\n",
    "    for i in df.columns:\n",
    "        print(i)\n",
    "        plt.figure(figsize=(10,5))\n",
    "        sns.histplot(df[i],kde=True,color='b')\n",
    "        plt.grid()\n",
    "        plt.show()\n",
    "        print('\\n\\n')\n",
    "        plt.figure(figsize=(10,5))\n",
    "        sns.boxplot(df[i],color='b')\n",
    "        plt.grid()\n",
    "        plt.show()"
   ]
  },
  {
   "cell_type": "code",
   "execution_count": 12,
   "id": "a1f193cf",
   "metadata": {
    "scrolled": true
   },
   "outputs": [],
   "source": [
    "# datadistrib()"
   ]
  },
  {
   "cell_type": "markdown",
   "id": "e0765be9",
   "metadata": {},
   "source": [
    "### Except the \"fc\" feature, the rest of the features do not have outliers. which is good. "
   ]
  },
  {
   "cell_type": "markdown",
   "id": "948378ae",
   "metadata": {},
   "source": [
    "### Lets see how imbalanced the data is"
   ]
  },
  {
   "cell_type": "code",
   "execution_count": 13,
   "id": "30bb13b2",
   "metadata": {},
   "outputs": [
    {
     "name": "stdout",
     "output_type": "stream",
     "text": [
      "3    500\n",
      "2    500\n",
      "1    500\n",
      "0    500\n",
      "Name: price_range, dtype: int64\n"
     ]
    },
    {
     "data": {
      "image/png": "[encoded data removed]",
      "text/plain": [
       "<Figure size 432x288 with 1 Axes>"
      ]
     },
     "metadata": {
      "needs_background": "light"
     },
     "output_type": "display_data"
    }
   ],
   "source": [
    "sns.countplot(df.price_range)\n",
    "plt.grid()\n",
    "print(df.price_range.value_counts())\n",
    "plt.show()"
   ]
  },
  {
   "cell_type": "markdown",
   "id": "ca99ccff",
   "metadata": {},
   "source": [
    "### The data is perfectly balanced between the 4 classes! "
   ]
  },
  {
   "cell_type": "markdown",
   "id": "f403bbb3",
   "metadata": {},
   "source": [
    "### how is battery power affecting the price range "
   ]
  },
  {
   "cell_type": "code",
   "execution_count": 14,
   "id": "b4561ff2",
   "metadata": {},
   "outputs": [
    {
     "data": {
      "image/png": "[encoded data removed]",
      "text/plain": [
       "<Figure size 432x288 with 1 Axes>"
      ]
     },
     "metadata": {
      "needs_background": "light"
     },
     "output_type": "display_data"
    }
   ],
   "source": [
    "# sns.boxplot(df.battery_power)\n",
    "sns.histplot(df.battery_power,bins=3)\n",
    "# plt.grid()\n",
    "plt.show()\n"
   ]
  },
  {
   "cell_type": "code",
   "execution_count": 15,
   "id": "c109cba9",
   "metadata": {},
   "outputs": [],
   "source": [
    "# q1 = np.percentile(df.battery_power, 25, interpolation='midpoint')\n",
    "# q3 = np.percentile(df.battery_power, 75, interpolation='midpoint')\n",
    "# q2 = df.battery_power.median()\n",
    "# iqr = q3 - q1\n",
    "# print('Q1  :',q1)\n",
    "# print('Q2  :',q2)\n",
    "# print('Q3  :',q3)\n",
    "# print('IQR :',iqr)\n",
    "# print('upper range for outlier :',q3+(1.5*iqr))\n",
    "# print('upper range for outlier :',q1-(1.5*iqr))"
   ]
  },
  {
   "cell_type": "code",
   "execution_count": 16,
   "id": "c1d02585",
   "metadata": {},
   "outputs": [],
   "source": [
    "bpc = []\n",
    "for i in df.battery_power:\n",
    "    if i < 1001:\n",
    "        bpc.append('low')\n",
    "    elif 1001 <= i < 1501:\n",
    "        bpc.append('medium')\n",
    "    elif i >= 1501:\n",
    "        bpc.append('high')\n",
    "df['battery_power_category'] = bpc"
   ]
  },
  {
   "cell_type": "code",
   "execution_count": 17,
   "id": "bca06d3f",
   "metadata": {},
   "outputs": [],
   "source": [
    "col = df.pop('battery_power_category')\n",
    "df.insert(1,'battery_power_category',col)"
   ]
  },
  {
   "cell_type": "code",
   "execution_count": 18,
   "id": "16b8d5f5",
   "metadata": {},
   "outputs": [],
   "source": [
    "bpc = pd.DataFrame(df.price_range.groupby(df.battery_power_category).value_counts())\n",
    "bpc['percentage'] = round(pd.DataFrame(df.price_range.groupby(df.battery_power_category).value_counts(normalize=True))*100,2)"
   ]
  },
  {
   "cell_type": "code",
   "execution_count": 19,
   "id": "3420d400",
   "metadata": {},
   "outputs": [],
   "source": [
    "op = pd.DataFrame(df.battery_power_category.groupby(df.price_range).value_counts())\n",
    "op['percentage'] = round(pd.DataFrame(df.battery_power_category.groupby(df.price_range).value_counts(normalize=True))*100,2)"
   ]
  },
  {
   "cell_type": "code",
   "execution_count": 20,
   "id": "2973cc89",
   "metadata": {},
   "outputs": [
    {
     "data": {
      "text/html": [
       "<div>\n",
       "<style scoped>\n",
       "    .dataframe tbody tr th:only-of-type {\n",
       "        vertical-align: middle;\n",
       "    }\n",
       "\n",
       "    .dataframe tbody tr th {\n",
       "        vertical-align: top;\n",
       "    }\n",
       "\n",
       "    .dataframe thead th {\n",
       "        text-align: right;\n",
       "    }\n",
       "</style>\n",
       "<table border=\"1\" class=\"dataframe\">\n",
       "  <thead>\n",
       "    <tr style=\"text-align: right;\">\n",
       "      <th></th>\n",
       "      <th></th>\n",
       "      <th>count</th>\n",
       "      <th>percentage</th>\n",
       "    </tr>\n",
       "    <tr>\n",
       "      <th>price_range</th>\n",
       "      <th>battery_power_category</th>\n",
       "      <th></th>\n",
       "      <th></th>\n",
       "    </tr>\n",
       "  </thead>\n",
       "  <tbody>\n",
       "    <tr>\n",
       "      <th rowspan=\"3\" valign=\"top\">0</th>\n",
       "      <th>low</th>\n",
       "      <td>226</td>\n",
       "      <td>45.2</td>\n",
       "    </tr>\n",
       "    <tr>\n",
       "      <th>medium</th>\n",
       "      <td>167</td>\n",
       "      <td>33.4</td>\n",
       "    </tr>\n",
       "    <tr>\n",
       "      <th>high</th>\n",
       "      <td>107</td>\n",
       "      <td>21.4</td>\n",
       "    </tr>\n",
       "    <tr>\n",
       "      <th rowspan=\"3\" valign=\"top\">1</th>\n",
       "      <th>medium</th>\n",
       "      <td>178</td>\n",
       "      <td>35.6</td>\n",
       "    </tr>\n",
       "    <tr>\n",
       "      <th>low</th>\n",
       "      <td>169</td>\n",
       "      <td>33.8</td>\n",
       "    </tr>\n",
       "    <tr>\n",
       "      <th>high</th>\n",
       "      <td>153</td>\n",
       "      <td>30.6</td>\n",
       "    </tr>\n",
       "    <tr>\n",
       "      <th rowspan=\"3\" valign=\"top\">2</th>\n",
       "      <th>low</th>\n",
       "      <td>187</td>\n",
       "      <td>37.4</td>\n",
       "    </tr>\n",
       "    <tr>\n",
       "      <th>high</th>\n",
       "      <td>174</td>\n",
       "      <td>34.8</td>\n",
       "    </tr>\n",
       "    <tr>\n",
       "      <th>medium</th>\n",
       "      <td>139</td>\n",
       "      <td>27.8</td>\n",
       "    </tr>\n",
       "    <tr>\n",
       "      <th rowspan=\"3\" valign=\"top\">3</th>\n",
       "      <th>high</th>\n",
       "      <td>228</td>\n",
       "      <td>45.6</td>\n",
       "    </tr>\n",
       "    <tr>\n",
       "      <th>medium</th>\n",
       "      <td>157</td>\n",
       "      <td>31.4</td>\n",
       "    </tr>\n",
       "    <tr>\n",
       "      <th>low</th>\n",
       "      <td>115</td>\n",
       "      <td>23.0</td>\n",
       "    </tr>\n",
       "  </tbody>\n",
       "</table>\n",
       "</div>"
      ],
      "text/plain": [
       "                                    count  percentage\n",
       "price_range battery_power_category                   \n",
       "0           low                       226        45.2\n",
       "            medium                    167        33.4\n",
       "            high                      107        21.4\n",
       "1           medium                    178        35.6\n",
       "            low                       169        33.8\n",
       "            high                      153        30.6\n",
       "2           low                       187        37.4\n",
       "            high                      174        34.8\n",
       "            medium                    139        27.8\n",
       "3           high                      228        45.6\n",
       "            medium                    157        31.4\n",
       "            low                       115        23.0"
      ]
     },
     "execution_count": 20,
     "metadata": {},
     "output_type": "execute_result"
    }
   ],
   "source": [
    "op.rename(columns={'battery_power_category':'count'})"
   ]
  },
  {
   "cell_type": "code",
   "execution_count": 21,
   "id": "bdc48858",
   "metadata": {},
   "outputs": [
    {
     "data": {
      "text/html": [
       "<div>\n",
       "<style scoped>\n",
       "    .dataframe tbody tr th:only-of-type {\n",
       "        vertical-align: middle;\n",
       "    }\n",
       "\n",
       "    .dataframe tbody tr th {\n",
       "        vertical-align: top;\n",
       "    }\n",
       "\n",
       "    .dataframe thead th {\n",
       "        text-align: right;\n",
       "    }\n",
       "</style>\n",
       "<table border=\"1\" class=\"dataframe\">\n",
       "  <thead>\n",
       "    <tr style=\"text-align: right;\">\n",
       "      <th></th>\n",
       "      <th></th>\n",
       "      <th>count</th>\n",
       "      <th>percentage</th>\n",
       "    </tr>\n",
       "    <tr>\n",
       "      <th>battery_power_category</th>\n",
       "      <th>price_range</th>\n",
       "      <th></th>\n",
       "      <th></th>\n",
       "    </tr>\n",
       "  </thead>\n",
       "  <tbody>\n",
       "    <tr>\n",
       "      <th rowspan=\"4\" valign=\"top\">high</th>\n",
       "      <th>3</th>\n",
       "      <td>228</td>\n",
       "      <td>34.44</td>\n",
       "    </tr>\n",
       "    <tr>\n",
       "      <th>2</th>\n",
       "      <td>174</td>\n",
       "      <td>26.28</td>\n",
       "    </tr>\n",
       "    <tr>\n",
       "      <th>1</th>\n",
       "      <td>153</td>\n",
       "      <td>23.11</td>\n",
       "    </tr>\n",
       "    <tr>\n",
       "      <th>0</th>\n",
       "      <td>107</td>\n",
       "      <td>16.16</td>\n",
       "    </tr>\n",
       "    <tr>\n",
       "      <th rowspan=\"4\" valign=\"top\">low</th>\n",
       "      <th>0</th>\n",
       "      <td>226</td>\n",
       "      <td>32.42</td>\n",
       "    </tr>\n",
       "    <tr>\n",
       "      <th>2</th>\n",
       "      <td>187</td>\n",
       "      <td>26.83</td>\n",
       "    </tr>\n",
       "    <tr>\n",
       "      <th>1</th>\n",
       "      <td>169</td>\n",
       "      <td>24.25</td>\n",
       "    </tr>\n",
       "    <tr>\n",
       "      <th>3</th>\n",
       "      <td>115</td>\n",
       "      <td>16.50</td>\n",
       "    </tr>\n",
       "    <tr>\n",
       "      <th rowspan=\"4\" valign=\"top\">medium</th>\n",
       "      <th>1</th>\n",
       "      <td>178</td>\n",
       "      <td>27.77</td>\n",
       "    </tr>\n",
       "    <tr>\n",
       "      <th>0</th>\n",
       "      <td>167</td>\n",
       "      <td>26.05</td>\n",
       "    </tr>\n",
       "    <tr>\n",
       "      <th>3</th>\n",
       "      <td>157</td>\n",
       "      <td>24.49</td>\n",
       "    </tr>\n",
       "    <tr>\n",
       "      <th>2</th>\n",
       "      <td>139</td>\n",
       "      <td>21.68</td>\n",
       "    </tr>\n",
       "  </tbody>\n",
       "</table>\n",
       "</div>"
      ],
      "text/plain": [
       "                                    count  percentage\n",
       "battery_power_category price_range                   \n",
       "high                   3              228       34.44\n",
       "                       2              174       26.28\n",
       "                       1              153       23.11\n",
       "                       0              107       16.16\n",
       "low                    0              226       32.42\n",
       "                       2              187       26.83\n",
       "                       1              169       24.25\n",
       "                       3              115       16.50\n",
       "medium                 1              178       27.77\n",
       "                       0              167       26.05\n",
       "                       3              157       24.49\n",
       "                       2              139       21.68"
      ]
     },
     "execution_count": 21,
     "metadata": {},
     "output_type": "execute_result"
    }
   ],
   "source": [
    "bpc.rename(columns={'price_range':'count'})"
   ]
  },
  {
   "cell_type": "code",
   "execution_count": 22,
   "id": "5654c720",
   "metadata": {},
   "outputs": [
    {
     "data": {
      "text/html": [
       "<div>\n",
       "<style scoped>\n",
       "    .dataframe tbody tr th:only-of-type {\n",
       "        vertical-align: middle;\n",
       "    }\n",
       "\n",
       "    .dataframe tbody tr th {\n",
       "        vertical-align: top;\n",
       "    }\n",
       "\n",
       "    .dataframe thead th {\n",
       "        text-align: right;\n",
       "    }\n",
       "</style>\n",
       "<table border=\"1\" class=\"dataframe\">\n",
       "  <thead>\n",
       "    <tr style=\"text-align: right;\">\n",
       "      <th></th>\n",
       "      <th>battery_power</th>\n",
       "    </tr>\n",
       "    <tr>\n",
       "      <th>price_range</th>\n",
       "      <th></th>\n",
       "    </tr>\n",
       "  </thead>\n",
       "  <tbody>\n",
       "    <tr>\n",
       "      <th>3</th>\n",
       "      <td>1379.984</td>\n",
       "    </tr>\n",
       "    <tr>\n",
       "      <th>1</th>\n",
       "      <td>1228.868</td>\n",
       "    </tr>\n",
       "    <tr>\n",
       "      <th>2</th>\n",
       "      <td>1228.320</td>\n",
       "    </tr>\n",
       "    <tr>\n",
       "      <th>0</th>\n",
       "      <td>1116.902</td>\n",
       "    </tr>\n",
       "  </tbody>\n",
       "</table>\n",
       "</div>"
      ],
      "text/plain": [
       "             battery_power\n",
       "price_range               \n",
       "3                 1379.984\n",
       "1                 1228.868\n",
       "2                 1228.320\n",
       "0                 1116.902"
      ]
     },
     "execution_count": 22,
     "metadata": {},
     "output_type": "execute_result"
    }
   ],
   "source": [
    "pd.DataFrame(df.battery_power.groupby(df.price_range).mean().sort_values(ascending=False))"
   ]
  },
  {
   "cell_type": "markdown",
   "id": "b6b99370",
   "metadata": {},
   "source": [
    "### Inference : \n",
    "1. The data makes sense, as the 34.4% of the PR3 phones have high battery capacity. \n",
    "2. only 16% of highest end PR3 phones have low capacity batteries\n",
    "3. But surprisingly, 37% of the PR2 phones have low capacity batteries.\n",
    "4. supporting to inference 3, the average battery capacity of a PR2 phone is only 1228. which is lower than a PR1 phone. \n",
    "5. We can tell that the battery power plays some role in deciding the price. (they are somewhat directly proportional)"
   ]
  },
  {
   "cell_type": "markdown",
   "id": "db5972d1",
   "metadata": {},
   "source": [
    "### Does \"Blue\" influence the price ?"
   ]
  },
  {
   "cell_type": "code",
   "execution_count": 23,
   "id": "88325872",
   "metadata": {},
   "outputs": [],
   "source": [
    "blue_pr = pd.DataFrame(df.price_range.groupby(df.blue).value_counts())\n",
    "blue_pr['percentage'] = round(pd.DataFrame(df.price_range.groupby(df.blue).value_counts(normalize=True))*100,2)"
   ]
  },
  {
   "cell_type": "code",
   "execution_count": 24,
   "id": "bd902b00",
   "metadata": {},
   "outputs": [],
   "source": [
    "op = pd.DataFrame(df.blue.groupby(df.price_range).value_counts())\n",
    "op['percentage'] = round(pd.DataFrame(df.blue.groupby(df.price_range).value_counts(normalize=True))*100,2)"
   ]
  },
  {
   "cell_type": "code",
   "execution_count": 25,
   "id": "22250750",
   "metadata": {},
   "outputs": [
    {
     "data": {
      "text/html": [
       "<div>\n",
       "<style scoped>\n",
       "    .dataframe tbody tr th:only-of-type {\n",
       "        vertical-align: middle;\n",
       "    }\n",
       "\n",
       "    .dataframe tbody tr th {\n",
       "        vertical-align: top;\n",
       "    }\n",
       "\n",
       "    .dataframe thead th {\n",
       "        text-align: right;\n",
       "    }\n",
       "</style>\n",
       "<table border=\"1\" class=\"dataframe\">\n",
       "  <thead>\n",
       "    <tr style=\"text-align: right;\">\n",
       "      <th></th>\n",
       "      <th></th>\n",
       "      <th>count</th>\n",
       "      <th>percentage</th>\n",
       "    </tr>\n",
       "    <tr>\n",
       "      <th>price_range</th>\n",
       "      <th>blue</th>\n",
       "      <th></th>\n",
       "      <th></th>\n",
       "    </tr>\n",
       "  </thead>\n",
       "  <tbody>\n",
       "    <tr>\n",
       "      <th rowspan=\"2\" valign=\"top\">0</th>\n",
       "      <th>0</th>\n",
       "      <td>257</td>\n",
       "      <td>51.4</td>\n",
       "    </tr>\n",
       "    <tr>\n",
       "      <th>1</th>\n",
       "      <td>243</td>\n",
       "      <td>48.6</td>\n",
       "    </tr>\n",
       "    <tr>\n",
       "      <th rowspan=\"2\" valign=\"top\">1</th>\n",
       "      <th>0</th>\n",
       "      <td>255</td>\n",
       "      <td>51.0</td>\n",
       "    </tr>\n",
       "    <tr>\n",
       "      <th>1</th>\n",
       "      <td>245</td>\n",
       "      <td>49.0</td>\n",
       "    </tr>\n",
       "    <tr>\n",
       "      <th rowspan=\"2\" valign=\"top\">2</th>\n",
       "      <th>0</th>\n",
       "      <td>257</td>\n",
       "      <td>51.4</td>\n",
       "    </tr>\n",
       "    <tr>\n",
       "      <th>1</th>\n",
       "      <td>243</td>\n",
       "      <td>48.6</td>\n",
       "    </tr>\n",
       "    <tr>\n",
       "      <th rowspan=\"2\" valign=\"top\">3</th>\n",
       "      <th>1</th>\n",
       "      <td>259</td>\n",
       "      <td>51.8</td>\n",
       "    </tr>\n",
       "    <tr>\n",
       "      <th>0</th>\n",
       "      <td>241</td>\n",
       "      <td>48.2</td>\n",
       "    </tr>\n",
       "  </tbody>\n",
       "</table>\n",
       "</div>"
      ],
      "text/plain": [
       "                  count  percentage\n",
       "price_range blue                   \n",
       "0           0       257        51.4\n",
       "            1       243        48.6\n",
       "1           0       255        51.0\n",
       "            1       245        49.0\n",
       "2           0       257        51.4\n",
       "            1       243        48.6\n",
       "3           1       259        51.8\n",
       "            0       241        48.2"
      ]
     },
     "execution_count": 25,
     "metadata": {},
     "output_type": "execute_result"
    }
   ],
   "source": [
    "op.rename(columns={'blue':'count'})"
   ]
  },
  {
   "cell_type": "code",
   "execution_count": 26,
   "id": "87fcf913",
   "metadata": {},
   "outputs": [
    {
     "data": {
      "text/html": [
       "<div>\n",
       "<style scoped>\n",
       "    .dataframe tbody tr th:only-of-type {\n",
       "        vertical-align: middle;\n",
       "    }\n",
       "\n",
       "    .dataframe tbody tr th {\n",
       "        vertical-align: top;\n",
       "    }\n",
       "\n",
       "    .dataframe thead th {\n",
       "        text-align: right;\n",
       "    }\n",
       "</style>\n",
       "<table border=\"1\" class=\"dataframe\">\n",
       "  <thead>\n",
       "    <tr style=\"text-align: right;\">\n",
       "      <th></th>\n",
       "      <th></th>\n",
       "      <th>count</th>\n",
       "      <th>percentage</th>\n",
       "    </tr>\n",
       "    <tr>\n",
       "      <th>blue</th>\n",
       "      <th>price_range</th>\n",
       "      <th></th>\n",
       "      <th></th>\n",
       "    </tr>\n",
       "  </thead>\n",
       "  <tbody>\n",
       "    <tr>\n",
       "      <th rowspan=\"4\" valign=\"top\">0</th>\n",
       "      <th>0</th>\n",
       "      <td>257</td>\n",
       "      <td>25.45</td>\n",
       "    </tr>\n",
       "    <tr>\n",
       "      <th>2</th>\n",
       "      <td>257</td>\n",
       "      <td>25.45</td>\n",
       "    </tr>\n",
       "    <tr>\n",
       "      <th>1</th>\n",
       "      <td>255</td>\n",
       "      <td>25.25</td>\n",
       "    </tr>\n",
       "    <tr>\n",
       "      <th>3</th>\n",
       "      <td>241</td>\n",
       "      <td>23.86</td>\n",
       "    </tr>\n",
       "    <tr>\n",
       "      <th rowspan=\"4\" valign=\"top\">1</th>\n",
       "      <th>3</th>\n",
       "      <td>259</td>\n",
       "      <td>26.16</td>\n",
       "    </tr>\n",
       "    <tr>\n",
       "      <th>1</th>\n",
       "      <td>245</td>\n",
       "      <td>24.75</td>\n",
       "    </tr>\n",
       "    <tr>\n",
       "      <th>0</th>\n",
       "      <td>243</td>\n",
       "      <td>24.55</td>\n",
       "    </tr>\n",
       "    <tr>\n",
       "      <th>2</th>\n",
       "      <td>243</td>\n",
       "      <td>24.55</td>\n",
       "    </tr>\n",
       "  </tbody>\n",
       "</table>\n",
       "</div>"
      ],
      "text/plain": [
       "                  count  percentage\n",
       "blue price_range                   \n",
       "0    0              257       25.45\n",
       "     2              257       25.45\n",
       "     1              255       25.25\n",
       "     3              241       23.86\n",
       "1    3              259       26.16\n",
       "     1              245       24.75\n",
       "     0              243       24.55\n",
       "     2              243       24.55"
      ]
     },
     "execution_count": 26,
     "metadata": {},
     "output_type": "execute_result"
    }
   ],
   "source": [
    "blue_pr.rename(columns={'price_range':'count'})"
   ]
  },
  {
   "cell_type": "markdown",
   "id": "681fd01d",
   "metadata": {},
   "source": [
    "### Inference : Blue does not play any role in deciding the price of a phone"
   ]
  },
  {
   "cell_type": "markdown",
   "id": "a08f7402",
   "metadata": {},
   "source": [
    "### Lets see if anything correlates with the price range! "
   ]
  },
  {
   "cell_type": "code",
   "execution_count": 27,
   "id": "2ffbc08d",
   "metadata": {},
   "outputs": [
    {
     "data": {
      "image/png": "[encoded data removed]",
      "text/plain": [
       "<Figure size 1080x720 with 2 Axes>"
      ]
     },
     "metadata": {
      "needs_background": "light"
     },
     "output_type": "display_data"
    }
   ],
   "source": [
    "plt.figure(figsize=(15,10))\n",
    "sns.heatmap(df.corr(),annot=True)\n",
    "plt.show()"
   ]
  },
  {
   "cell_type": "markdown",
   "id": "555af25e",
   "metadata": {},
   "source": [
    "### Quite clearly, we have the \"RAM\" being the only feature with the highest correlation with the target. We have a 92% correlation with the price range"
   ]
  },
  {
   "cell_type": "code",
   "execution_count": 28,
   "id": "22b06458",
   "metadata": {},
   "outputs": [
    {
     "data": {
      "text/plain": [
       "array([ 256.        ,  332.36734694,  408.73469388,  485.10204082,\n",
       "        561.46938776,  637.83673469,  714.20408163,  790.57142857,\n",
       "        866.93877551,  943.30612245, 1019.67346939, 1096.04081633,\n",
       "       1172.40816327, 1248.7755102 , 1325.14285714, 1401.51020408,\n",
       "       1477.87755102, 1554.24489796, 1630.6122449 , 1706.97959184,\n",
       "       1783.34693878, 1859.71428571, 1936.08163265, 2012.44897959,\n",
       "       2088.81632653, 2165.18367347, 2241.55102041, 2317.91836735,\n",
       "       2394.28571429, 2470.65306122, 2547.02040816, 2623.3877551 ,\n",
       "       2699.75510204, 2776.12244898, 2852.48979592, 2928.85714286,\n",
       "       3005.2244898 , 3081.59183673, 3157.95918367, 3234.32653061,\n",
       "       3310.69387755, 3387.06122449, 3463.42857143, 3539.79591837,\n",
       "       3616.16326531, 3692.53061224, 3768.89795918, 3845.26530612,\n",
       "       3921.63265306, 3998.        ])"
      ]
     },
     "execution_count": 28,
     "metadata": {},
     "output_type": "execute_result"
    }
   ],
   "source": [
    "np.linspace(df.ram.min(), df.ram.max())"
   ]
  },
  {
   "cell_type": "code",
   "execution_count": 29,
   "id": "7942ca80",
   "metadata": {},
   "outputs": [
    {
     "data": {
      "image/png": "[encoded data removed]",
      "text/plain": [
       "<Figure size 432x288 with 1 Axes>"
      ]
     },
     "metadata": {
      "needs_background": "light"
     },
     "output_type": "display_data"
    },
    {
     "data": {
      "image/png": "[encoded data removed]",
      "text/plain": [
       "<Figure size 432x288 with 1 Axes>"
      ]
     },
     "metadata": {
      "needs_background": "light"
     },
     "output_type": "display_data"
    }
   ],
   "source": [
    "sns.histplot(df.ram,bins=4)\n",
    "plt.show()\n",
    "\n",
    "sns.boxplot(df.ram)\n",
    "plt.grid()\n",
    "plt.show()"
   ]
  },
  {
   "cell_type": "code",
   "execution_count": 30,
   "id": "b9988da1",
   "metadata": {},
   "outputs": [],
   "source": [
    "q1 = np.percentile(df.ram,25)\n",
    "q2 = np.percentile(df.ram,50)\n",
    "q3 = np.percentile(df.ram,75)"
   ]
  },
  {
   "cell_type": "code",
   "execution_count": 31,
   "id": "9734bfc7",
   "metadata": {},
   "outputs": [
    {
     "data": {
      "text/plain": [
       "(1207.5, 3064.5)"
      ]
     },
     "execution_count": 31,
     "metadata": {},
     "output_type": "execute_result"
    }
   ],
   "source": [
    "q1,q3"
   ]
  },
  {
   "cell_type": "code",
   "execution_count": 32,
   "id": "5f21e798",
   "metadata": {},
   "outputs": [],
   "source": [
    "rc = []\n",
    "for i in df.ram:\n",
    "    if i < 1001:\n",
    "        rc.append('less than 1gb')\n",
    "    elif 1001 <= i < 2001:\n",
    "        rc.append('1 to 2 gb')\n",
    "    elif 2001 <= i < 3001:\n",
    "        rc.append('2 to 3 gb')\n",
    "    elif i >= 3001:\n",
    "        rc.append('greater than 3 gb')\n",
    "df['ram_catg'] = rc"
   ]
  },
  {
   "cell_type": "code",
   "execution_count": 33,
   "id": "8d7aee1c",
   "metadata": {},
   "outputs": [],
   "source": [
    "col = df.pop('ram_catg')\n",
    "df.insert(15,'ram_catg',col)"
   ]
  },
  {
   "cell_type": "code",
   "execution_count": 34,
   "id": "e42d825b",
   "metadata": {},
   "outputs": [],
   "source": [
    "ram_pr = pd.DataFrame(df.ram_catg.groupby(df.price_range).value_counts())\n",
    "ram_pr['percentage'] = round(pd.DataFrame(df.ram_catg.groupby(df.price_range).value_counts(True))*100,2)"
   ]
  },
  {
   "cell_type": "code",
   "execution_count": 35,
   "id": "3c11aabb",
   "metadata": {},
   "outputs": [
    {
     "data": {
      "text/html": [
       "<div>\n",
       "<style scoped>\n",
       "    .dataframe tbody tr th:only-of-type {\n",
       "        vertical-align: middle;\n",
       "    }\n",
       "\n",
       "    .dataframe tbody tr th {\n",
       "        vertical-align: top;\n",
       "    }\n",
       "\n",
       "    .dataframe thead th {\n",
       "        text-align: right;\n",
       "    }\n",
       "</style>\n",
       "<table border=\"1\" class=\"dataframe\">\n",
       "  <thead>\n",
       "    <tr style=\"text-align: right;\">\n",
       "      <th></th>\n",
       "      <th></th>\n",
       "      <th>ram_catg</th>\n",
       "      <th>percentage</th>\n",
       "    </tr>\n",
       "    <tr>\n",
       "      <th>price_range</th>\n",
       "      <th>ram_catg</th>\n",
       "      <th></th>\n",
       "      <th></th>\n",
       "    </tr>\n",
       "  </thead>\n",
       "  <tbody>\n",
       "    <tr>\n",
       "      <th rowspan=\"2\" valign=\"top\">0</th>\n",
       "      <th>less than 1gb</th>\n",
       "      <td>365</td>\n",
       "      <td>73.0</td>\n",
       "    </tr>\n",
       "    <tr>\n",
       "      <th>1 to 2 gb</th>\n",
       "      <td>135</td>\n",
       "      <td>27.0</td>\n",
       "    </tr>\n",
       "    <tr>\n",
       "      <th rowspan=\"3\" valign=\"top\">1</th>\n",
       "      <th>1 to 2 gb</th>\n",
       "      <td>329</td>\n",
       "      <td>65.8</td>\n",
       "    </tr>\n",
       "    <tr>\n",
       "      <th>2 to 3 gb</th>\n",
       "      <td>138</td>\n",
       "      <td>27.6</td>\n",
       "    </tr>\n",
       "    <tr>\n",
       "      <th>less than 1gb</th>\n",
       "      <td>33</td>\n",
       "      <td>6.6</td>\n",
       "    </tr>\n",
       "    <tr>\n",
       "      <th rowspan=\"3\" valign=\"top\">2</th>\n",
       "      <th>2 to 3 gb</th>\n",
       "      <td>350</td>\n",
       "      <td>70.0</td>\n",
       "    </tr>\n",
       "    <tr>\n",
       "      <th>greater than 3 gb</th>\n",
       "      <td>92</td>\n",
       "      <td>18.4</td>\n",
       "    </tr>\n",
       "    <tr>\n",
       "      <th>1 to 2 gb</th>\n",
       "      <td>58</td>\n",
       "      <td>11.6</td>\n",
       "    </tr>\n",
       "    <tr>\n",
       "      <th rowspan=\"2\" valign=\"top\">3</th>\n",
       "      <th>greater than 3 gb</th>\n",
       "      <td>432</td>\n",
       "      <td>86.4</td>\n",
       "    </tr>\n",
       "    <tr>\n",
       "      <th>2 to 3 gb</th>\n",
       "      <td>68</td>\n",
       "      <td>13.6</td>\n",
       "    </tr>\n",
       "  </tbody>\n",
       "</table>\n",
       "</div>"
      ],
      "text/plain": [
       "                               ram_catg  percentage\n",
       "price_range ram_catg                               \n",
       "0           less than 1gb           365        73.0\n",
       "            1 to 2 gb               135        27.0\n",
       "1           1 to 2 gb               329        65.8\n",
       "            2 to 3 gb               138        27.6\n",
       "            less than 1gb            33         6.6\n",
       "2           2 to 3 gb               350        70.0\n",
       "            greater than 3 gb        92        18.4\n",
       "            1 to 2 gb                58        11.6\n",
       "3           greater than 3 gb       432        86.4\n",
       "            2 to 3 gb                68        13.6"
      ]
     },
     "execution_count": 35,
     "metadata": {},
     "output_type": "execute_result"
    }
   ],
   "source": [
    "ram_pr"
   ]
  },
  {
   "cell_type": "code",
   "execution_count": 36,
   "id": "ae3e7af2",
   "metadata": {},
   "outputs": [
    {
     "name": "stdout",
     "output_type": "stream",
     "text": [
      "price_range\n",
      "3    3449.232\n",
      "2    2582.816\n",
      "1    1679.490\n",
      "0     785.314\n",
      "Name: ram, dtype: float64 \n",
      "\n"
     ]
    }
   ],
   "source": [
    "print(df.ram.groupby(df.price_range).mean().sort_values(ascending=False),'\\n')"
   ]
  },
  {
   "cell_type": "markdown",
   "id": "12855b71",
   "metadata": {},
   "source": [
    "### Inference: \n",
    "1. Now this clearly marks the difference! the ram increases, the price increases!\n",
    "2. We can also see that the price range 0 does not have any phones with more than 2gb ram. \n",
    "3. The price range 1 phones have 3 categories,\n",
    "    1. less than 1 gb : 6.6%\n",
    "    2. 1 to 2         : 66%\n",
    "    3. 2 to 3.        : 27.6%\n",
    "4. price range 2 phones also have 3 categories. \n",
    "    1. 1 to 2         : 11.6%\n",
    "    2. 2 to 3         : 70%\n",
    "    3. greater than 3 : 18.4%\n",
    "5. the PR 3 phones have no phones with less tha 2 gb ram. \n",
    "    1. 2 to 3         : 13.5%\n",
    "    2. more than 3 gb : 86.5%\n",
    "    \n",
    "    \n",
    "### So we can conclude, \n",
    "1. Majority of phones have less than 1GB ram for phones in tier 0\n",
    "2. Majority of phones have 1 to 2 gb ram for phones in tier 1\n",
    "3. Majority of phones have 2 to 3 gb ram for phones in tier 2\n",
    "4. Majority of phones have more than 3 gb ram for phones in tier 3"
   ]
  },
  {
   "cell_type": "markdown",
   "id": "08329676",
   "metadata": {},
   "source": [
    "### Lets also check the mean px height and px width wrt the price range"
   ]
  },
  {
   "cell_type": "code",
   "execution_count": 37,
   "id": "6ee42d23",
   "metadata": {},
   "outputs": [
    {
     "data": {
      "text/plain": [
       "price_range\n",
       "3    744.848\n",
       "1    666.892\n",
       "2    632.284\n",
       "0    536.408\n",
       "Name: px_height, dtype: float64"
      ]
     },
     "execution_count": 37,
     "metadata": {},
     "output_type": "execute_result"
    }
   ],
   "source": [
    "df.px_height.groupby(df.price_range).mean().sort_values(ascending=False)"
   ]
  },
  {
   "cell_type": "code",
   "execution_count": 38,
   "id": "503877b9",
   "metadata": {},
   "outputs": [
    {
     "data": {
      "text/plain": [
       "price_range\n",
       "3    1369.838\n",
       "1    1251.908\n",
       "2    1234.046\n",
       "0    1150.270\n",
       "Name: px_width, dtype: float64"
      ]
     },
     "execution_count": 38,
     "metadata": {},
     "output_type": "execute_result"
    }
   ],
   "source": [
    "df.px_width.groupby(df.price_range).mean().sort_values(ascending=False)"
   ]
  },
  {
   "cell_type": "markdown",
   "id": "0dbf4c57",
   "metadata": {},
   "source": [
    "### We can get an idea that for the phones on the top tier, the average px_height and the px_width are higher and for the phones on the lowest tier, the px_height and px_width are the lowest."
   ]
  },
  {
   "cell_type": "markdown",
   "id": "481a8712",
   "metadata": {},
   "source": [
    "### Let's now try and predict what the price catg. of the test data set will be! "
   ]
  },
  {
   "cell_type": "code",
   "execution_count": 39,
   "id": "7989047e",
   "metadata": {},
   "outputs": [],
   "source": [
    "ml = df.copy()"
   ]
  },
  {
   "cell_type": "code",
   "execution_count": 40,
   "id": "5c1044eb",
   "metadata": {},
   "outputs": [
    {
     "data": {
      "text/html": [
       "<div>\n",
       "<style scoped>\n",
       "    .dataframe tbody tr th:only-of-type {\n",
       "        vertical-align: middle;\n",
       "    }\n",
       "\n",
       "    .dataframe tbody tr th {\n",
       "        vertical-align: top;\n",
       "    }\n",
       "\n",
       "    .dataframe thead th {\n",
       "        text-align: right;\n",
       "    }\n",
       "</style>\n",
       "<table border=\"1\" class=\"dataframe\">\n",
       "  <thead>\n",
       "    <tr style=\"text-align: right;\">\n",
       "      <th></th>\n",
       "      <th>battery_power</th>\n",
       "      <th>battery_power_category</th>\n",
       "      <th>blue</th>\n",
       "      <th>clock_speed</th>\n",
       "      <th>dual_sim</th>\n",
       "      <th>fc</th>\n",
       "      <th>four_g</th>\n",
       "      <th>int_memory</th>\n",
       "      <th>m_dep</th>\n",
       "      <th>mobile_wt</th>\n",
       "      <th>n_cores</th>\n",
       "      <th>pc</th>\n",
       "      <th>px_height</th>\n",
       "      <th>px_width</th>\n",
       "      <th>ram</th>\n",
       "      <th>ram_catg</th>\n",
       "      <th>sc_h</th>\n",
       "      <th>sc_w</th>\n",
       "      <th>talk_time</th>\n",
       "      <th>three_g</th>\n",
       "      <th>touch_screen</th>\n",
       "      <th>wifi</th>\n",
       "      <th>price_range</th>\n",
       "    </tr>\n",
       "  </thead>\n",
       "  <tbody>\n",
       "    <tr>\n",
       "      <th>0</th>\n",
       "      <td>842</td>\n",
       "      <td>low</td>\n",
       "      <td>0</td>\n",
       "      <td>2.2</td>\n",
       "      <td>0</td>\n",
       "      <td>1</td>\n",
       "      <td>0</td>\n",
       "      <td>7</td>\n",
       "      <td>0.6</td>\n",
       "      <td>188</td>\n",
       "      <td>2</td>\n",
       "      <td>2</td>\n",
       "      <td>20</td>\n",
       "      <td>756</td>\n",
       "      <td>2549</td>\n",
       "      <td>2 to 3 gb</td>\n",
       "      <td>9</td>\n",
       "      <td>7</td>\n",
       "      <td>19</td>\n",
       "      <td>0</td>\n",
       "      <td>0</td>\n",
       "      <td>1</td>\n",
       "      <td>1</td>\n",
       "    </tr>\n",
       "    <tr>\n",
       "      <th>1</th>\n",
       "      <td>1021</td>\n",
       "      <td>medium</td>\n",
       "      <td>1</td>\n",
       "      <td>0.5</td>\n",
       "      <td>1</td>\n",
       "      <td>0</td>\n",
       "      <td>1</td>\n",
       "      <td>53</td>\n",
       "      <td>0.7</td>\n",
       "      <td>136</td>\n",
       "      <td>3</td>\n",
       "      <td>6</td>\n",
       "      <td>905</td>\n",
       "      <td>1988</td>\n",
       "      <td>2631</td>\n",
       "      <td>2 to 3 gb</td>\n",
       "      <td>17</td>\n",
       "      <td>3</td>\n",
       "      <td>7</td>\n",
       "      <td>1</td>\n",
       "      <td>1</td>\n",
       "      <td>0</td>\n",
       "      <td>2</td>\n",
       "    </tr>\n",
       "    <tr>\n",
       "      <th>2</th>\n",
       "      <td>563</td>\n",
       "      <td>low</td>\n",
       "      <td>1</td>\n",
       "      <td>0.5</td>\n",
       "      <td>1</td>\n",
       "      <td>2</td>\n",
       "      <td>1</td>\n",
       "      <td>41</td>\n",
       "      <td>0.9</td>\n",
       "      <td>145</td>\n",
       "      <td>5</td>\n",
       "      <td>6</td>\n",
       "      <td>1263</td>\n",
       "      <td>1716</td>\n",
       "      <td>2603</td>\n",
       "      <td>2 to 3 gb</td>\n",
       "      <td>11</td>\n",
       "      <td>2</td>\n",
       "      <td>9</td>\n",
       "      <td>1</td>\n",
       "      <td>1</td>\n",
       "      <td>0</td>\n",
       "      <td>2</td>\n",
       "    </tr>\n",
       "    <tr>\n",
       "      <th>3</th>\n",
       "      <td>615</td>\n",
       "      <td>low</td>\n",
       "      <td>1</td>\n",
       "      <td>2.5</td>\n",
       "      <td>0</td>\n",
       "      <td>0</td>\n",
       "      <td>0</td>\n",
       "      <td>10</td>\n",
       "      <td>0.8</td>\n",
       "      <td>131</td>\n",
       "      <td>6</td>\n",
       "      <td>9</td>\n",
       "      <td>1216</td>\n",
       "      <td>1786</td>\n",
       "      <td>2769</td>\n",
       "      <td>2 to 3 gb</td>\n",
       "      <td>16</td>\n",
       "      <td>8</td>\n",
       "      <td>11</td>\n",
       "      <td>1</td>\n",
       "      <td>0</td>\n",
       "      <td>0</td>\n",
       "      <td>2</td>\n",
       "    </tr>\n",
       "    <tr>\n",
       "      <th>4</th>\n",
       "      <td>1821</td>\n",
       "      <td>high</td>\n",
       "      <td>1</td>\n",
       "      <td>1.2</td>\n",
       "      <td>0</td>\n",
       "      <td>13</td>\n",
       "      <td>1</td>\n",
       "      <td>44</td>\n",
       "      <td>0.6</td>\n",
       "      <td>141</td>\n",
       "      <td>2</td>\n",
       "      <td>14</td>\n",
       "      <td>1208</td>\n",
       "      <td>1212</td>\n",
       "      <td>1411</td>\n",
       "      <td>1 to 2 gb</td>\n",
       "      <td>8</td>\n",
       "      <td>2</td>\n",
       "      <td>15</td>\n",
       "      <td>1</td>\n",
       "      <td>1</td>\n",
       "      <td>0</td>\n",
       "      <td>1</td>\n",
       "    </tr>\n",
       "  </tbody>\n",
       "</table>\n",
       "</div>"
      ],
      "text/plain": [
       "   battery_power battery_power_category  blue  clock_speed  dual_sim  fc  \\\n",
       "0            842                    low     0          2.2         0   1   \n",
       "1           1021                 medium     1          0.5         1   0   \n",
       "2            563                    low     1          0.5         1   2   \n",
       "3            615                    low     1          2.5         0   0   \n",
       "4           1821                   high     1          1.2         0  13   \n",
       "\n",
       "   four_g  int_memory  m_dep  mobile_wt  n_cores  pc  px_height  px_width  \\\n",
       "0       0           7    0.6        188        2   2         20       756   \n",
       "1       1          53    0.7        136        3   6        905      1988   \n",
       "2       1          41    0.9        145        5   6       1263      1716   \n",
       "3       0          10    0.8        131        6   9       1216      1786   \n",
       "4       1          44    0.6        141        2  14       1208      1212   \n",
       "\n",
       "    ram   ram_catg  sc_h  sc_w  talk_time  three_g  touch_screen  wifi  \\\n",
       "0  2549  2 to 3 gb     9     7         19        0             0     1   \n",
       "1  2631  2 to 3 gb    17     3          7        1             1     0   \n",
       "2  2603  2 to 3 gb    11     2          9        1             1     0   \n",
       "3  2769  2 to 3 gb    16     8         11        1             0     0   \n",
       "4  1411  1 to 2 gb     8     2         15        1             1     0   \n",
       "\n",
       "   price_range  \n",
       "0            1  \n",
       "1            2  \n",
       "2            2  \n",
       "3            2  \n",
       "4            1  "
      ]
     },
     "execution_count": 40,
     "metadata": {},
     "output_type": "execute_result"
    }
   ],
   "source": [
    "ml.head()"
   ]
  },
  {
   "cell_type": "markdown",
   "id": "8acc7350",
   "metadata": {},
   "source": [
    "### Lets verify the balance of our data again"
   ]
  },
  {
   "cell_type": "code",
   "execution_count": 41,
   "id": "2d060d35",
   "metadata": {},
   "outputs": [
    {
     "name": "stdout",
     "output_type": "stream",
     "text": [
      "3    500\n",
      "2    500\n",
      "1    500\n",
      "0    500\n",
      "Name: price_range, dtype: int64\n"
     ]
    },
    {
     "data": {
      "image/png": "[encoded data removed]",
      "text/plain": [
       "<Figure size 432x288 with 1 Axes>"
      ]
     },
     "metadata": {
      "needs_background": "light"
     },
     "output_type": "display_data"
    }
   ],
   "source": [
    "sns.countplot(ml.price_range)\n",
    "print(ml.price_range.value_counts())\n",
    "plt.show()"
   ]
  },
  {
   "cell_type": "markdown",
   "id": "78965feb",
   "metadata": {},
   "source": [
    "### Droppin the newly created columns as they are of categorical type and wont be needed! "
   ]
  },
  {
   "cell_type": "code",
   "execution_count": 42,
   "id": "310d12ec",
   "metadata": {},
   "outputs": [
    {
     "name": "stdout",
     "output_type": "stream",
     "text": [
      "battery_power_category\n",
      "ram_catg\n"
     ]
    }
   ],
   "source": [
    "for i in ml.columns:\n",
    "    if ml[i].dtypes == 'object':\n",
    "        print(i)"
   ]
  },
  {
   "cell_type": "code",
   "execution_count": 43,
   "id": "118c9f8a",
   "metadata": {},
   "outputs": [],
   "source": [
    "ml.drop(['battery_power_category','ram_catg'],axis=1,inplace=True)"
   ]
  },
  {
   "cell_type": "markdown",
   "id": "0707d661",
   "metadata": {},
   "source": [
    "### Lets now drop all features except the 4 correlating features. (\"RAM, Battery, Px_height, px_Width\")"
   ]
  },
  {
   "cell_type": "code",
   "execution_count": 44,
   "id": "30670614",
   "metadata": {},
   "outputs": [],
   "source": [
    "ml = ml[['battery_power','px_height','px_width','ram','price_range']]"
   ]
  },
  {
   "cell_type": "code",
   "execution_count": 45,
   "id": "74511f5a",
   "metadata": {},
   "outputs": [
    {
     "data": {
      "text/html": [
       "<div>\n",
       "<style scoped>\n",
       "    .dataframe tbody tr th:only-of-type {\n",
       "        vertical-align: middle;\n",
       "    }\n",
       "\n",
       "    .dataframe tbody tr th {\n",
       "        vertical-align: top;\n",
       "    }\n",
       "\n",
       "    .dataframe thead th {\n",
       "        text-align: right;\n",
       "    }\n",
       "</style>\n",
       "<table border=\"1\" class=\"dataframe\">\n",
       "  <thead>\n",
       "    <tr style=\"text-align: right;\">\n",
       "      <th></th>\n",
       "      <th>battery_power</th>\n",
       "      <th>px_height</th>\n",
       "      <th>px_width</th>\n",
       "      <th>ram</th>\n",
       "      <th>price_range</th>\n",
       "    </tr>\n",
       "  </thead>\n",
       "  <tbody>\n",
       "    <tr>\n",
       "      <th>0</th>\n",
       "      <td>842</td>\n",
       "      <td>20</td>\n",
       "      <td>756</td>\n",
       "      <td>2549</td>\n",
       "      <td>1</td>\n",
       "    </tr>\n",
       "    <tr>\n",
       "      <th>1</th>\n",
       "      <td>1021</td>\n",
       "      <td>905</td>\n",
       "      <td>1988</td>\n",
       "      <td>2631</td>\n",
       "      <td>2</td>\n",
       "    </tr>\n",
       "    <tr>\n",
       "      <th>2</th>\n",
       "      <td>563</td>\n",
       "      <td>1263</td>\n",
       "      <td>1716</td>\n",
       "      <td>2603</td>\n",
       "      <td>2</td>\n",
       "    </tr>\n",
       "    <tr>\n",
       "      <th>3</th>\n",
       "      <td>615</td>\n",
       "      <td>1216</td>\n",
       "      <td>1786</td>\n",
       "      <td>2769</td>\n",
       "      <td>2</td>\n",
       "    </tr>\n",
       "    <tr>\n",
       "      <th>4</th>\n",
       "      <td>1821</td>\n",
       "      <td>1208</td>\n",
       "      <td>1212</td>\n",
       "      <td>1411</td>\n",
       "      <td>1</td>\n",
       "    </tr>\n",
       "  </tbody>\n",
       "</table>\n",
       "</div>"
      ],
      "text/plain": [
       "   battery_power  px_height  px_width   ram  price_range\n",
       "0            842         20       756  2549            1\n",
       "1           1021        905      1988  2631            2\n",
       "2            563       1263      1716  2603            2\n",
       "3            615       1216      1786  2769            2\n",
       "4           1821       1208      1212  1411            1"
      ]
     },
     "execution_count": 45,
     "metadata": {},
     "output_type": "execute_result"
    }
   ],
   "source": [
    "ml.head()"
   ]
  },
  {
   "cell_type": "code",
   "execution_count": 46,
   "id": "d5dee252",
   "metadata": {},
   "outputs": [],
   "source": [
    "## models \n",
    "lr = LogisticRegression()\n",
    "kn = KNeighborsClassifier()\n",
    "dt = DecisionTreeClassifier()\n",
    "rf = RandomForestClassifier()\n",
    "gb = GradientBoostingClassifier()\n",
    "xgb = XGBClassifier()\n",
    "xgbrf = XGBRFClassifier()\n",
    "cat = CatBoostClassifier(verbose=False)\n",
    "lgb = LGBMClassifier()"
   ]
  },
  {
   "cell_type": "code",
   "execution_count": 47,
   "id": "f84c3f81",
   "metadata": {},
   "outputs": [],
   "source": [
    "x = ml.drop('price_range',axis=1)\n",
    "y = ml.price_range"
   ]
  },
  {
   "cell_type": "code",
   "execution_count": 48,
   "id": "ab06d5e1",
   "metadata": {},
   "outputs": [],
   "source": [
    "xtrain,xtest,ytrain,ytest = train_test_split(x,y,test_size=0.15, random_state=43)"
   ]
  },
  {
   "cell_type": "code",
   "execution_count": 49,
   "id": "b0e7b79a",
   "metadata": {},
   "outputs": [
    {
     "name": "stdout",
     "output_type": "stream",
     "text": [
      "accuracy : 0.9433333333333334\n",
      "\n",
      "confusion matrix :\n",
      "\n",
      " [[76  1  0  0]\n",
      " [ 1 75  0  0]\n",
      " [ 0  3 71  6]\n",
      " [ 0  0  6 61]]\n",
      "\n",
      "classification report :\n",
      "\n",
      "               precision    recall  f1-score   support\n",
      "\n",
      "           0       0.99      0.99      0.99        77\n",
      "           1       0.95      0.99      0.97        76\n",
      "           2       0.92      0.89      0.90        80\n",
      "           3       0.91      0.91      0.91        67\n",
      "\n",
      "    accuracy                           0.94       300\n",
      "   macro avg       0.94      0.94      0.94       300\n",
      "weighted avg       0.94      0.94      0.94       300\n",
      "\n"
     ]
    }
   ],
   "source": [
    "lr.fit(xtrain,ytrain)\n",
    "lr_test_pred = lr.predict(xtest)\n",
    "lr_test_acc = accuracy_score(ytest,lr_test_pred)\n",
    "lr_test_cf = confusion_matrix(ytest,lr_test_pred)\n",
    "lr_test_cr = classification_report(ytest,lr_test_pred)\n",
    "\n",
    "print('accuracy :',lr_test_acc)\n",
    "print('\\nconfusion matrix :\\n\\n',lr_test_cf)\n",
    "print('\\nclassification report :\\n\\n',lr_test_cr)"
   ]
  },
  {
   "cell_type": "markdown",
   "id": "05c70884",
   "metadata": {},
   "source": [
    "### KNN"
   ]
  },
  {
   "cell_type": "code",
   "execution_count": 50,
   "id": "ab6d77fb",
   "metadata": {},
   "outputs": [
    {
     "name": "stdout",
     "output_type": "stream",
     "text": [
      "accuracy : 0.9166666666666666\n",
      "\n",
      "confusion matrix :\n",
      "\n",
      " [[74  3  0  0]\n",
      " [ 3 73  0  0]\n",
      " [ 0  4 66 10]\n",
      " [ 0  0  5 62]]\n",
      "\n",
      "classification report :\n",
      "\n",
      "               precision    recall  f1-score   support\n",
      "\n",
      "           0       0.96      0.96      0.96        77\n",
      "           1       0.91      0.96      0.94        76\n",
      "           2       0.93      0.82      0.87        80\n",
      "           3       0.86      0.93      0.89        67\n",
      "\n",
      "    accuracy                           0.92       300\n",
      "   macro avg       0.92      0.92      0.92       300\n",
      "weighted avg       0.92      0.92      0.92       300\n",
      "\n"
     ]
    }
   ],
   "source": [
    "kn.fit(xtrain,ytrain)\n",
    "kn_test_pred = kn.predict(xtest)\n",
    "kn_test_acc = accuracy_score(ytest,kn_test_pred)\n",
    "kn_test_cf = confusion_matrix(ytest,kn_test_pred)\n",
    "kn_test_cr = classification_report(ytest,kn_test_pred)\n",
    "\n",
    "print('accuracy :',kn_test_acc)\n",
    "print('\\nconfusion matrix :\\n\\n',kn_test_cf)\n",
    "print('\\nclassification report :\\n\\n',kn_test_cr)"
   ]
  },
  {
   "cell_type": "markdown",
   "id": "8756e4a2",
   "metadata": {},
   "source": [
    "### Decision Tree"
   ]
  },
  {
   "cell_type": "code",
   "execution_count": 51,
   "id": "818c5df2",
   "metadata": {},
   "outputs": [
    {
     "name": "stdout",
     "output_type": "stream",
     "text": [
      "accuracy : 0.8633333333333333\n",
      "\n",
      "confusion matrix :\n",
      "\n",
      " [[72  5  0  0]\n",
      " [ 7 63  6  0]\n",
      " [ 0  4 66 10]\n",
      " [ 0  0  9 58]]\n",
      "\n",
      "classification report :\n",
      "\n",
      "               precision    recall  f1-score   support\n",
      "\n",
      "           0       0.91      0.94      0.92        77\n",
      "           1       0.88      0.83      0.85        76\n",
      "           2       0.81      0.82      0.82        80\n",
      "           3       0.85      0.87      0.86        67\n",
      "\n",
      "    accuracy                           0.86       300\n",
      "   macro avg       0.86      0.86      0.86       300\n",
      "weighted avg       0.86      0.86      0.86       300\n",
      "\n"
     ]
    }
   ],
   "source": [
    "dt.fit(xtrain,ytrain)\n",
    "dt_test_pred = dt.predict(xtest)\n",
    "dt_test_acc = accuracy_score(ytest,dt_test_pred)\n",
    "dt_test_cf = confusion_matrix(ytest,dt_test_pred)\n",
    "dt_test_cr = classification_report(ytest,dt_test_pred)\n",
    "\n",
    "print('accuracy :',dt_test_acc)\n",
    "print('\\nconfusion matrix :\\n\\n',dt_test_cf)\n",
    "print('\\nclassification report :\\n\\n',dt_test_cr)"
   ]
  },
  {
   "cell_type": "markdown",
   "id": "86d2394e",
   "metadata": {},
   "source": [
    "### Random Forest"
   ]
  },
  {
   "cell_type": "code",
   "execution_count": 52,
   "id": "b6f8d669",
   "metadata": {},
   "outputs": [
    {
     "name": "stdout",
     "output_type": "stream",
     "text": [
      "accuracy : 0.9266666666666666\n",
      "\n",
      "confusion matrix :\n",
      "\n",
      " [[74  3  0  0]\n",
      " [ 2 74  0  0]\n",
      " [ 0  1 70  9]\n",
      " [ 0  0  7 60]]\n",
      "\n",
      "classification report :\n",
      "\n",
      "               precision    recall  f1-score   support\n",
      "\n",
      "           0       0.97      0.96      0.97        77\n",
      "           1       0.95      0.97      0.96        76\n",
      "           2       0.91      0.88      0.89        80\n",
      "           3       0.87      0.90      0.88        67\n",
      "\n",
      "    accuracy                           0.93       300\n",
      "   macro avg       0.93      0.93      0.93       300\n",
      "weighted avg       0.93      0.93      0.93       300\n",
      "\n"
     ]
    }
   ],
   "source": [
    "rf.fit(xtrain,ytrain)\n",
    "rf_test_pred = rf.predict(xtest)\n",
    "rf_test_acc = accuracy_score(ytest,rf_test_pred)\n",
    "rf_test_cf = confusion_matrix(ytest,rf_test_pred)\n",
    "rf_test_cr = classification_report(ytest,rf_test_pred)\n",
    "\n",
    "print('accuracy :',rf_test_acc)\n",
    "print('\\nconfusion matrix :\\n\\n',rf_test_cf)\n",
    "print('\\nclassification report :\\n\\n',rf_test_cr)"
   ]
  },
  {
   "cell_type": "markdown",
   "id": "67a98739",
   "metadata": {},
   "source": [
    "### Gradient Boosting"
   ]
  },
  {
   "cell_type": "code",
   "execution_count": 53,
   "id": "ee76faaf",
   "metadata": {},
   "outputs": [
    {
     "name": "stdout",
     "output_type": "stream",
     "text": [
      "accuracy : 0.9\n",
      "\n",
      "confusion matrix :\n",
      "\n",
      " [[73  4  0  0]\n",
      " [ 4 70  2  0]\n",
      " [ 0  4 69  7]\n",
      " [ 0  0  9 58]]\n",
      "\n",
      "classification report :\n",
      "\n",
      "               precision    recall  f1-score   support\n",
      "\n",
      "           0       0.95      0.95      0.95        77\n",
      "           1       0.90      0.92      0.91        76\n",
      "           2       0.86      0.86      0.86        80\n",
      "           3       0.89      0.87      0.88        67\n",
      "\n",
      "    accuracy                           0.90       300\n",
      "   macro avg       0.90      0.90      0.90       300\n",
      "weighted avg       0.90      0.90      0.90       300\n",
      "\n"
     ]
    }
   ],
   "source": [
    "gb.fit(xtrain,ytrain)\n",
    "gb_test_pred = gb.predict(xtest)\n",
    "gb_test_acc = accuracy_score(ytest,gb_test_pred)\n",
    "gb_test_cf = confusion_matrix(ytest,gb_test_pred)\n",
    "gb_test_cr = classification_report(ytest,gb_test_pred)\n",
    "\n",
    "print('accuracy :',gb_test_acc)\n",
    "print('\\nconfusion matrix :\\n\\n',gb_test_cf)\n",
    "print('\\nclassification report :\\n\\n',gb_test_cr)"
   ]
  },
  {
   "cell_type": "markdown",
   "id": "165b2d10",
   "metadata": {},
   "source": [
    "### XGB"
   ]
  },
  {
   "cell_type": "code",
   "execution_count": 54,
   "id": "3e75515e",
   "metadata": {},
   "outputs": [
    {
     "name": "stdout",
     "output_type": "stream",
     "text": [
      "accuracy : 0.91\n",
      "\n",
      "confusion matrix :\n",
      "\n",
      " [[75  2  0  0]\n",
      " [ 5 69  2  0]\n",
      " [ 0  2 68 10]\n",
      " [ 0  0  6 61]]\n",
      "\n",
      "classification report :\n",
      "\n",
      "               precision    recall  f1-score   support\n",
      "\n",
      "           0       0.94      0.97      0.96        77\n",
      "           1       0.95      0.91      0.93        76\n",
      "           2       0.89      0.85      0.87        80\n",
      "           3       0.86      0.91      0.88        67\n",
      "\n",
      "    accuracy                           0.91       300\n",
      "   macro avg       0.91      0.91      0.91       300\n",
      "weighted avg       0.91      0.91      0.91       300\n",
      "\n"
     ]
    }
   ],
   "source": [
    "xgb.fit(xtrain,ytrain)\n",
    "xgb_test_pred = xgb.predict(xtest)\n",
    "xgb_test_acc = accuracy_score(ytest,xgb_test_pred)\n",
    "xgb_test_cf = confusion_matrix(ytest,xgb_test_pred)\n",
    "xgb_test_cr = classification_report(ytest,xgb_test_pred)\n",
    "\n",
    "print('accuracy :',xgb_test_acc)\n",
    "print('\\nconfusion matrix :\\n\\n',xgb_test_cf)\n",
    "print('\\nclassification report :\\n\\n',xgb_test_cr)"
   ]
  },
  {
   "cell_type": "markdown",
   "id": "2285c237",
   "metadata": {},
   "source": [
    "### XGBRF"
   ]
  },
  {
   "cell_type": "code",
   "execution_count": 55,
   "id": "ae5a56b2",
   "metadata": {},
   "outputs": [
    {
     "name": "stdout",
     "output_type": "stream",
     "text": [
      "accuracy : 0.8933333333333333\n",
      "\n",
      "confusion matrix :\n",
      "\n",
      " [[72  5  0  0]\n",
      " [ 2 72  2  0]\n",
      " [ 0  4 65 11]\n",
      " [ 0  0  8 59]]\n",
      "\n",
      "classification report :\n",
      "\n",
      "               precision    recall  f1-score   support\n",
      "\n",
      "           0       0.97      0.94      0.95        77\n",
      "           1       0.89      0.95      0.92        76\n",
      "           2       0.87      0.81      0.84        80\n",
      "           3       0.84      0.88      0.86        67\n",
      "\n",
      "    accuracy                           0.89       300\n",
      "   macro avg       0.89      0.89      0.89       300\n",
      "weighted avg       0.89      0.89      0.89       300\n",
      "\n"
     ]
    }
   ],
   "source": [
    "xgbrf.fit(xtrain,ytrain)\n",
    "xgbrf_test_pred = xgbrf.predict(xtest)\n",
    "xgbrf_test_acc = accuracy_score(ytest,xgbrf_test_pred)\n",
    "xgbrf_test_cf = confusion_matrix(ytest,xgbrf_test_pred)\n",
    "xgbrf_test_cr = classification_report(ytest,xgbrf_test_pred)\n",
    "\n",
    "print('accuracy :',xgbrf_test_acc)\n",
    "print('\\nconfusion matrix :\\n\\n',xgbrf_test_cf)\n",
    "print('\\nclassification report :\\n\\n',xgbrf_test_cr)"
   ]
  },
  {
   "cell_type": "markdown",
   "id": "8b5acd5b",
   "metadata": {},
   "source": [
    "### Cat boost"
   ]
  },
  {
   "cell_type": "code",
   "execution_count": 56,
   "id": "192c27d8",
   "metadata": {},
   "outputs": [
    {
     "name": "stdout",
     "output_type": "stream",
     "text": [
      "accuracy : 0.9366666666666666\n",
      "\n",
      "confusion matrix :\n",
      "\n",
      " [[75  2  0  0]\n",
      " [ 2 73  1  0]\n",
      " [ 0  2 70  8]\n",
      " [ 0  0  4 63]]\n",
      "\n",
      "classification report :\n",
      "\n",
      "               precision    recall  f1-score   support\n",
      "\n",
      "           0       0.97      0.97      0.97        77\n",
      "           1       0.95      0.96      0.95        76\n",
      "           2       0.93      0.88      0.90        80\n",
      "           3       0.89      0.94      0.91        67\n",
      "\n",
      "    accuracy                           0.94       300\n",
      "   macro avg       0.94      0.94      0.94       300\n",
      "weighted avg       0.94      0.94      0.94       300\n",
      "\n"
     ]
    }
   ],
   "source": [
    "cat.fit(xtrain,ytrain)\n",
    "cat_test_pred = cat.predict(xtest)\n",
    "cat_test_acc = accuracy_score(ytest,cat_test_pred)\n",
    "cat_test_cf = confusion_matrix(ytest,cat_test_pred)\n",
    "cat_test_cr = classification_report(ytest,cat_test_pred)\n",
    "\n",
    "print('accuracy :',cat_test_acc)\n",
    "print('\\nconfusion matrix :\\n\\n',cat_test_cf)\n",
    "print('\\nclassification report :\\n\\n',cat_test_cr)"
   ]
  },
  {
   "cell_type": "code",
   "execution_count": 57,
   "id": "3ffd3963",
   "metadata": {},
   "outputs": [],
   "source": [
    "ctp = []\n",
    "for i in cat_test_pred:\n",
    "    ctp.append(i[0])\n",
    "cat_test_pred = ctp\n",
    "cat_test_pred = np.array(cat_test_pred)"
   ]
  },
  {
   "cell_type": "markdown",
   "id": "cfd9c6d0",
   "metadata": {},
   "source": [
    "### LGBM"
   ]
  },
  {
   "cell_type": "code",
   "execution_count": 58,
   "id": "f53dfa02",
   "metadata": {},
   "outputs": [
    {
     "name": "stdout",
     "output_type": "stream",
     "text": [
      "accuracy : 0.9233333333333333\n",
      "\n",
      "confusion matrix :\n",
      "\n",
      " [[74  3  0  0]\n",
      " [ 3 71  2  0]\n",
      " [ 0  1 70  9]\n",
      " [ 0  0  5 62]]\n",
      "\n",
      "classification report :\n",
      "\n",
      "               precision    recall  f1-score   support\n",
      "\n",
      "           0       0.96      0.96      0.96        77\n",
      "           1       0.95      0.93      0.94        76\n",
      "           2       0.91      0.88      0.89        80\n",
      "           3       0.87      0.93      0.90        67\n",
      "\n",
      "    accuracy                           0.92       300\n",
      "   macro avg       0.92      0.92      0.92       300\n",
      "weighted avg       0.92      0.92      0.92       300\n",
      "\n"
     ]
    }
   ],
   "source": [
    "lgb.fit(xtrain,ytrain)\n",
    "lgb_test_pred = lgb.predict(xtest)\n",
    "lgb_test_acc = accuracy_score(ytest,lgb_test_pred)\n",
    "lgb_test_cf = confusion_matrix(ytest,lgb_test_pred)\n",
    "lgb_test_cr = classification_report(ytest,lgb_test_pred)\n",
    "\n",
    "print('accuracy :',lgb_test_acc)\n",
    "print('\\nconfusion matrix :\\n\\n',lgb_test_cf)\n",
    "print('\\nclassification report :\\n\\n',lgb_test_cr)"
   ]
  },
  {
   "cell_type": "markdown",
   "id": "9c77034d",
   "metadata": {},
   "source": [
    "### Lets now ensemble all the models who's accuracy is greater than 90%"
   ]
  },
  {
   "cell_type": "code",
   "execution_count": 59,
   "id": "6d2b33cd",
   "metadata": {},
   "outputs": [],
   "source": [
    "ensemble = pd.DataFrame({'LR':lr_test_pred ,'KNN':kn_test_pred,'RF':rf_test_pred, 'GB':gb_test_pred, 'XGB':xgb_test_pred,'XGBRF':xgbrf_test_pred, \n",
    "                         'CAT':cat_test_pred, 'LGBM': lgb_test_pred})"
   ]
  },
  {
   "cell_type": "code",
   "execution_count": 60,
   "id": "2f76cdf3",
   "metadata": {},
   "outputs": [
    {
     "data": {
      "text/html": [
       "<div>\n",
       "<style scoped>\n",
       "    .dataframe tbody tr th:only-of-type {\n",
       "        vertical-align: middle;\n",
       "    }\n",
       "\n",
       "    .dataframe tbody tr th {\n",
       "        vertical-align: top;\n",
       "    }\n",
       "\n",
       "    .dataframe thead th {\n",
       "        text-align: right;\n",
       "    }\n",
       "</style>\n",
       "<table border=\"1\" class=\"dataframe\">\n",
       "  <thead>\n",
       "    <tr style=\"text-align: right;\">\n",
       "      <th></th>\n",
       "      <th>LR</th>\n",
       "      <th>KNN</th>\n",
       "      <th>RF</th>\n",
       "      <th>GB</th>\n",
       "      <th>XGB</th>\n",
       "      <th>XGBRF</th>\n",
       "      <th>CAT</th>\n",
       "      <th>LGBM</th>\n",
       "    </tr>\n",
       "  </thead>\n",
       "  <tbody>\n",
       "    <tr>\n",
       "      <th>0</th>\n",
       "      <td>1</td>\n",
       "      <td>1</td>\n",
       "      <td>1</td>\n",
       "      <td>1</td>\n",
       "      <td>0</td>\n",
       "      <td>1</td>\n",
       "      <td>1</td>\n",
       "      <td>1</td>\n",
       "    </tr>\n",
       "    <tr>\n",
       "      <th>1</th>\n",
       "      <td>1</td>\n",
       "      <td>1</td>\n",
       "      <td>1</td>\n",
       "      <td>1</td>\n",
       "      <td>1</td>\n",
       "      <td>1</td>\n",
       "      <td>1</td>\n",
       "      <td>1</td>\n",
       "    </tr>\n",
       "    <tr>\n",
       "      <th>2</th>\n",
       "      <td>1</td>\n",
       "      <td>1</td>\n",
       "      <td>1</td>\n",
       "      <td>1</td>\n",
       "      <td>1</td>\n",
       "      <td>1</td>\n",
       "      <td>1</td>\n",
       "      <td>1</td>\n",
       "    </tr>\n",
       "    <tr>\n",
       "      <th>3</th>\n",
       "      <td>2</td>\n",
       "      <td>2</td>\n",
       "      <td>2</td>\n",
       "      <td>2</td>\n",
       "      <td>2</td>\n",
       "      <td>2</td>\n",
       "      <td>2</td>\n",
       "      <td>2</td>\n",
       "    </tr>\n",
       "    <tr>\n",
       "      <th>4</th>\n",
       "      <td>2</td>\n",
       "      <td>2</td>\n",
       "      <td>2</td>\n",
       "      <td>2</td>\n",
       "      <td>2</td>\n",
       "      <td>2</td>\n",
       "      <td>2</td>\n",
       "      <td>2</td>\n",
       "    </tr>\n",
       "  </tbody>\n",
       "</table>\n",
       "</div>"
      ],
      "text/plain": [
       "   LR  KNN  RF  GB  XGB  XGBRF  CAT  LGBM\n",
       "0   1    1   1   1    0      1    1     1\n",
       "1   1    1   1   1    1      1    1     1\n",
       "2   1    1   1   1    1      1    1     1\n",
       "3   2    2   2   2    2      2    2     2\n",
       "4   2    2   2   2    2      2    2     2"
      ]
     },
     "execution_count": 60,
     "metadata": {},
     "output_type": "execute_result"
    }
   ],
   "source": [
    "ensemble.head()"
   ]
  },
  {
   "cell_type": "code",
   "execution_count": 61,
   "id": "71a57ff7",
   "metadata": {},
   "outputs": [],
   "source": [
    "modes = []\n",
    "for i in ensemble.index:\n",
    "    modes.append(ensemble.iloc[i].mode().tolist())"
   ]
  },
  {
   "cell_type": "code",
   "execution_count": 62,
   "id": "15a81fe4",
   "metadata": {},
   "outputs": [],
   "source": [
    "fv = []\n",
    "for i in modes:\n",
    "    fv.append(i[0])\n",
    "ensemble['voting'] = fv"
   ]
  },
  {
   "cell_type": "code",
   "execution_count": 63,
   "id": "97b1d8c7",
   "metadata": {
    "scrolled": true
   },
   "outputs": [
    {
     "data": {
      "text/html": [
       "<div>\n",
       "<style scoped>\n",
       "    .dataframe tbody tr th:only-of-type {\n",
       "        vertical-align: middle;\n",
       "    }\n",
       "\n",
       "    .dataframe tbody tr th {\n",
       "        vertical-align: top;\n",
       "    }\n",
       "\n",
       "    .dataframe thead th {\n",
       "        text-align: right;\n",
       "    }\n",
       "</style>\n",
       "<table border=\"1\" class=\"dataframe\">\n",
       "  <thead>\n",
       "    <tr style=\"text-align: right;\">\n",
       "      <th></th>\n",
       "      <th>LR</th>\n",
       "      <th>KNN</th>\n",
       "      <th>RF</th>\n",
       "      <th>GB</th>\n",
       "      <th>XGB</th>\n",
       "      <th>XGBRF</th>\n",
       "      <th>CAT</th>\n",
       "      <th>LGBM</th>\n",
       "      <th>voting</th>\n",
       "    </tr>\n",
       "  </thead>\n",
       "  <tbody>\n",
       "    <tr>\n",
       "      <th>0</th>\n",
       "      <td>1</td>\n",
       "      <td>1</td>\n",
       "      <td>1</td>\n",
       "      <td>1</td>\n",
       "      <td>0</td>\n",
       "      <td>1</td>\n",
       "      <td>1</td>\n",
       "      <td>1</td>\n",
       "      <td>1</td>\n",
       "    </tr>\n",
       "    <tr>\n",
       "      <th>1</th>\n",
       "      <td>1</td>\n",
       "      <td>1</td>\n",
       "      <td>1</td>\n",
       "      <td>1</td>\n",
       "      <td>1</td>\n",
       "      <td>1</td>\n",
       "      <td>1</td>\n",
       "      <td>1</td>\n",
       "      <td>1</td>\n",
       "    </tr>\n",
       "    <tr>\n",
       "      <th>2</th>\n",
       "      <td>1</td>\n",
       "      <td>1</td>\n",
       "      <td>1</td>\n",
       "      <td>1</td>\n",
       "      <td>1</td>\n",
       "      <td>1</td>\n",
       "      <td>1</td>\n",
       "      <td>1</td>\n",
       "      <td>1</td>\n",
       "    </tr>\n",
       "    <tr>\n",
       "      <th>3</th>\n",
       "      <td>2</td>\n",
       "      <td>2</td>\n",
       "      <td>2</td>\n",
       "      <td>2</td>\n",
       "      <td>2</td>\n",
       "      <td>2</td>\n",
       "      <td>2</td>\n",
       "      <td>2</td>\n",
       "      <td>2</td>\n",
       "    </tr>\n",
       "    <tr>\n",
       "      <th>4</th>\n",
       "      <td>2</td>\n",
       "      <td>2</td>\n",
       "      <td>2</td>\n",
       "      <td>2</td>\n",
       "      <td>2</td>\n",
       "      <td>2</td>\n",
       "      <td>2</td>\n",
       "      <td>2</td>\n",
       "      <td>2</td>\n",
       "    </tr>\n",
       "  </tbody>\n",
       "</table>\n",
       "</div>"
      ],
      "text/plain": [
       "   LR  KNN  RF  GB  XGB  XGBRF  CAT  LGBM  voting\n",
       "0   1    1   1   1    0      1    1     1       1\n",
       "1   1    1   1   1    1      1    1     1       1\n",
       "2   1    1   1   1    1      1    1     1       1\n",
       "3   2    2   2   2    2      2    2     2       2\n",
       "4   2    2   2   2    2      2    2     2       2"
      ]
     },
     "execution_count": 63,
     "metadata": {},
     "output_type": "execute_result"
    }
   ],
   "source": [
    "ensemble.head()"
   ]
  },
  {
   "cell_type": "markdown",
   "id": "c95cb8ed",
   "metadata": {},
   "source": [
    "### Lets now check the metric"
   ]
  },
  {
   "cell_type": "markdown",
   "id": "59a8541f",
   "metadata": {},
   "source": [
    "### Ensemble of the 5 models :"
   ]
  },
  {
   "cell_type": "code",
   "execution_count": 64,
   "id": "343966ad",
   "metadata": {
    "scrolled": true
   },
   "outputs": [
    {
     "name": "stdout",
     "output_type": "stream",
     "text": [
      "Accuracy : 0.9333333333333333\n",
      "conf. matrix :\n",
      "\n",
      " [[75  2  0  0]\n",
      " [ 2 74  0  0]\n",
      " [ 0  1 70  9]\n",
      " [ 0  0  6 61]]\n",
      "classification report :\n",
      "\n",
      "               precision    recall  f1-score   support\n",
      "\n",
      "           0       0.97      0.97      0.97        77\n",
      "           1       0.96      0.97      0.97        76\n",
      "           2       0.92      0.88      0.90        80\n",
      "           3       0.87      0.91      0.89        67\n",
      "\n",
      "    accuracy                           0.93       300\n",
      "   macro avg       0.93      0.93      0.93       300\n",
      "weighted avg       0.93      0.93      0.93       300\n",
      "\n"
     ]
    }
   ],
   "source": [
    "print('Accuracy :',accuracy_score(ytest,ensemble.voting))\n",
    "print('conf. matrix :\\n\\n',confusion_matrix(ytest,ensemble.voting))\n",
    "print('classification report :\\n\\n',classification_report(ytest,ensemble.voting))"
   ]
  },
  {
   "cell_type": "markdown",
   "id": "158ed9fa",
   "metadata": {},
   "source": [
    "### Random Forest : "
   ]
  },
  {
   "cell_type": "code",
   "execution_count": 65,
   "id": "96cf3a89",
   "metadata": {},
   "outputs": [
    {
     "name": "stdout",
     "output_type": "stream",
     "text": [
      "accuracy : 0.9266666666666666\n",
      "\n",
      "confusion matrix :\n",
      "\n",
      " [[74  3  0  0]\n",
      " [ 2 74  0  0]\n",
      " [ 0  1 70  9]\n",
      " [ 0  0  7 60]]\n",
      "\n",
      "classification report :\n",
      "\n",
      "               precision    recall  f1-score   support\n",
      "\n",
      "           0       0.97      0.96      0.97        77\n",
      "           1       0.95      0.97      0.96        76\n",
      "           2       0.91      0.88      0.89        80\n",
      "           3       0.87      0.90      0.88        67\n",
      "\n",
      "    accuracy                           0.93       300\n",
      "   macro avg       0.93      0.93      0.93       300\n",
      "weighted avg       0.93      0.93      0.93       300\n",
      "\n"
     ]
    }
   ],
   "source": [
    "print('accuracy :',rf_test_acc)\n",
    "print('\\nconfusion matrix :\\n\\n',rf_test_cf)\n",
    "print('\\nclassification report :\\n\\n',rf_test_cr)"
   ]
  },
  {
   "cell_type": "markdown",
   "id": "d84f2dff",
   "metadata": {},
   "source": [
    "### We can conclude that the ensemble of all the 5 models was able to equally classify between the classes compared to RF"
   ]
  },
  {
   "cell_type": "markdown",
   "id": "6a6e8b03",
   "metadata": {},
   "source": [
    "### Lets now test our predictions for the test data"
   ]
  },
  {
   "cell_type": "code",
   "execution_count": 66,
   "id": "f8e8e03f",
   "metadata": {},
   "outputs": [
    {
     "data": {
      "text/html": [
       "<div>\n",
       "<style scoped>\n",
       "    .dataframe tbody tr th:only-of-type {\n",
       "        vertical-align: middle;\n",
       "    }\n",
       "\n",
       "    .dataframe tbody tr th {\n",
       "        vertical-align: top;\n",
       "    }\n",
       "\n",
       "    .dataframe thead th {\n",
       "        text-align: right;\n",
       "    }\n",
       "</style>\n",
       "<table border=\"1\" class=\"dataframe\">\n",
       "  <thead>\n",
       "    <tr style=\"text-align: right;\">\n",
       "      <th></th>\n",
       "      <th>id</th>\n",
       "      <th>battery_power</th>\n",
       "      <th>blue</th>\n",
       "      <th>clock_speed</th>\n",
       "      <th>dual_sim</th>\n",
       "      <th>fc</th>\n",
       "      <th>four_g</th>\n",
       "      <th>int_memory</th>\n",
       "      <th>m_dep</th>\n",
       "      <th>mobile_wt</th>\n",
       "      <th>n_cores</th>\n",
       "      <th>pc</th>\n",
       "      <th>px_height</th>\n",
       "      <th>px_width</th>\n",
       "      <th>ram</th>\n",
       "      <th>sc_h</th>\n",
       "      <th>sc_w</th>\n",
       "      <th>talk_time</th>\n",
       "      <th>three_g</th>\n",
       "      <th>touch_screen</th>\n",
       "      <th>wifi</th>\n",
       "    </tr>\n",
       "  </thead>\n",
       "  <tbody>\n",
       "    <tr>\n",
       "      <th>0</th>\n",
       "      <td>1</td>\n",
       "      <td>1043</td>\n",
       "      <td>1</td>\n",
       "      <td>1.8</td>\n",
       "      <td>1</td>\n",
       "      <td>14</td>\n",
       "      <td>0</td>\n",
       "      <td>5</td>\n",
       "      <td>0.1</td>\n",
       "      <td>193</td>\n",
       "      <td>3</td>\n",
       "      <td>16</td>\n",
       "      <td>226</td>\n",
       "      <td>1412</td>\n",
       "      <td>3476</td>\n",
       "      <td>12</td>\n",
       "      <td>7</td>\n",
       "      <td>2</td>\n",
       "      <td>0</td>\n",
       "      <td>1</td>\n",
       "      <td>0</td>\n",
       "    </tr>\n",
       "    <tr>\n",
       "      <th>1</th>\n",
       "      <td>2</td>\n",
       "      <td>841</td>\n",
       "      <td>1</td>\n",
       "      <td>0.5</td>\n",
       "      <td>1</td>\n",
       "      <td>4</td>\n",
       "      <td>1</td>\n",
       "      <td>61</td>\n",
       "      <td>0.8</td>\n",
       "      <td>191</td>\n",
       "      <td>5</td>\n",
       "      <td>12</td>\n",
       "      <td>746</td>\n",
       "      <td>857</td>\n",
       "      <td>3895</td>\n",
       "      <td>6</td>\n",
       "      <td>0</td>\n",
       "      <td>7</td>\n",
       "      <td>1</td>\n",
       "      <td>0</td>\n",
       "      <td>0</td>\n",
       "    </tr>\n",
       "    <tr>\n",
       "      <th>2</th>\n",
       "      <td>3</td>\n",
       "      <td>1807</td>\n",
       "      <td>1</td>\n",
       "      <td>2.8</td>\n",
       "      <td>0</td>\n",
       "      <td>1</td>\n",
       "      <td>0</td>\n",
       "      <td>27</td>\n",
       "      <td>0.9</td>\n",
       "      <td>186</td>\n",
       "      <td>3</td>\n",
       "      <td>4</td>\n",
       "      <td>1270</td>\n",
       "      <td>1366</td>\n",
       "      <td>2396</td>\n",
       "      <td>17</td>\n",
       "      <td>10</td>\n",
       "      <td>10</td>\n",
       "      <td>0</td>\n",
       "      <td>1</td>\n",
       "      <td>1</td>\n",
       "    </tr>\n",
       "    <tr>\n",
       "      <th>3</th>\n",
       "      <td>4</td>\n",
       "      <td>1546</td>\n",
       "      <td>0</td>\n",
       "      <td>0.5</td>\n",
       "      <td>1</td>\n",
       "      <td>18</td>\n",
       "      <td>1</td>\n",
       "      <td>25</td>\n",
       "      <td>0.5</td>\n",
       "      <td>96</td>\n",
       "      <td>8</td>\n",
       "      <td>20</td>\n",
       "      <td>295</td>\n",
       "      <td>1752</td>\n",
       "      <td>3893</td>\n",
       "      <td>10</td>\n",
       "      <td>0</td>\n",
       "      <td>7</td>\n",
       "      <td>1</td>\n",
       "      <td>1</td>\n",
       "      <td>0</td>\n",
       "    </tr>\n",
       "    <tr>\n",
       "      <th>4</th>\n",
       "      <td>5</td>\n",
       "      <td>1434</td>\n",
       "      <td>0</td>\n",
       "      <td>1.4</td>\n",
       "      <td>0</td>\n",
       "      <td>11</td>\n",
       "      <td>1</td>\n",
       "      <td>49</td>\n",
       "      <td>0.5</td>\n",
       "      <td>108</td>\n",
       "      <td>6</td>\n",
       "      <td>18</td>\n",
       "      <td>749</td>\n",
       "      <td>810</td>\n",
       "      <td>1773</td>\n",
       "      <td>15</td>\n",
       "      <td>8</td>\n",
       "      <td>7</td>\n",
       "      <td>1</td>\n",
       "      <td>0</td>\n",
       "      <td>1</td>\n",
       "    </tr>\n",
       "  </tbody>\n",
       "</table>\n",
       "</div>"
      ],
      "text/plain": [
       "   id  battery_power  blue  clock_speed  dual_sim  fc  four_g  int_memory  \\\n",
       "0   1           1043     1          1.8         1  14       0           5   \n",
       "1   2            841     1          0.5         1   4       1          61   \n",
       "2   3           1807     1          2.8         0   1       0          27   \n",
       "3   4           1546     0          0.5         1  18       1          25   \n",
       "4   5           1434     0          1.4         0  11       1          49   \n",
       "\n",
       "   m_dep  mobile_wt  n_cores  pc  px_height  px_width   ram  sc_h  sc_w  \\\n",
       "0    0.1        193        3  16        226      1412  3476    12     7   \n",
       "1    0.8        191        5  12        746       857  3895     6     0   \n",
       "2    0.9        186        3   4       1270      1366  2396    17    10   \n",
       "3    0.5         96        8  20        295      1752  3893    10     0   \n",
       "4    0.5        108        6  18        749       810  1773    15     8   \n",
       "\n",
       "   talk_time  three_g  touch_screen  wifi  \n",
       "0          2        0             1     0  \n",
       "1          7        1             0     0  \n",
       "2         10        0             1     1  \n",
       "3          7        1             1     0  \n",
       "4          7        1             0     1  "
      ]
     },
     "execution_count": 66,
     "metadata": {},
     "output_type": "execute_result"
    }
   ],
   "source": [
    "test.head()"
   ]
  },
  {
   "cell_type": "code",
   "execution_count": 67,
   "id": "879267bb",
   "metadata": {},
   "outputs": [],
   "source": [
    "ids = test['id']"
   ]
  },
  {
   "cell_type": "code",
   "execution_count": 68,
   "id": "a7c7aa1e",
   "metadata": {},
   "outputs": [],
   "source": [
    "test.drop('id',axis=1,inplace=True)"
   ]
  },
  {
   "cell_type": "code",
   "execution_count": 69,
   "id": "437a0e2e",
   "metadata": {},
   "outputs": [],
   "source": [
    "test = test[['battery_power','px_height','px_width','ram']]"
   ]
  },
  {
   "cell_type": "code",
   "execution_count": 70,
   "id": "cf4911b5",
   "metadata": {},
   "outputs": [],
   "source": [
    "lr = lr.fit(x,y)\n",
    "kn = kn.fit(x,y)\n",
    "rf = rf.fit(x,y)\n",
    "gb = gb.fit(x,y)\n",
    "xgb = xgb.fit(x,y)\n",
    "xgbrf = xgbrf.fit(x,y)\n",
    "cat = cat.fit(x,y)\n",
    "lgb = lgb.fit(x,y)"
   ]
  },
  {
   "cell_type": "code",
   "execution_count": 71,
   "id": "8b2a32e1",
   "metadata": {},
   "outputs": [],
   "source": [
    "import pickle\n",
    "# filename = 'finalized_model.sav'\n",
    "pickle.dump(cat, open('cat.sav', 'wb')) \n",
    "pickle.dump(lr, open('lr.sav', 'wb')) \n",
    "pickle.dump(kn, open('kn.sav', 'wb')) \n",
    "pickle.dump(rf, open('rf.sav', 'wb')) \n",
    "pickle.dump(gb, open('gb.sav', 'wb')) \n",
    "pickle.dump(xgb, open('xgb.sav', 'wb')) \n",
    "pickle.dump(xgbrf, open('xgbrf.sav', 'wb')) \n",
    "pickle.dump(lgb, open('lgb.sav', 'wb')) "
   ]
  },
  {
   "cell_type": "code",
   "execution_count": 72,
   "id": "79dc10b2",
   "metadata": {},
   "outputs": [],
   "source": [
    "loaded_model1 = pickle.load(open('cat.sav', 'rb'))\n",
    "loaded_model2 = pickle.load(open('lr.sav', 'rb'))\n",
    "loaded_model3 = pickle.load(open('kn.sav', 'rb'))\n",
    "loaded_model4 = pickle.load(open('rf.sav', 'rb'))\n",
    "loaded_model5 = pickle.load(open('gb.sav', 'rb'))\n",
    "loaded_model6 = pickle.load(open('xgb.sav', 'rb'))\n",
    "loaded_model7 = pickle.load(open('xgbrf.sav', 'rb'))\n",
    "loaded_model8 = pickle.load(open('lgb.sav', 'rb'))"
   ]
  },
  {
   "cell_type": "code",
   "execution_count": 73,
   "id": "8c5b489f",
   "metadata": {},
   "outputs": [],
   "source": [
    "m1p = loaded_model1.predict(test)\n",
    "m2p = loaded_model2.predict(test)\n",
    "m3p = loaded_model3.predict(test)\n",
    "m4p = loaded_model4.predict(test)\n",
    "m5p = loaded_model5.predict(test)\n",
    "m6p = loaded_model6.predict(test)\n",
    "m7p = loaded_model7.predict(test)\n",
    "m8p = loaded_model8.predict(test)"
   ]
  },
  {
   "cell_type": "code",
   "execution_count": 74,
   "id": "0cc1d3f5",
   "metadata": {},
   "outputs": [],
   "source": [
    "mp1 = []\n",
    "for i in m1p:\n",
    "    mp1.append(i[0])"
   ]
  },
  {
   "cell_type": "code",
   "execution_count": 75,
   "id": "59aebd23",
   "metadata": {},
   "outputs": [],
   "source": [
    "m1p = mp1"
   ]
  },
  {
   "cell_type": "code",
   "execution_count": 76,
   "id": "9e09465d",
   "metadata": {},
   "outputs": [],
   "source": [
    "final_predictions = pd.DataFrame({'cat':m1p , 'lr':m2p,'kn':m3p,'rf':m4p,'gb':m5p,'xgb':m6p,\n",
    "                                 'xgbrf':m7p,'lgb':m8p})"
   ]
  },
  {
   "cell_type": "code",
   "execution_count": 77,
   "id": "701e9a6d",
   "metadata": {},
   "outputs": [
    {
     "data": {
      "text/html": [
       "<div>\n",
       "<style scoped>\n",
       "    .dataframe tbody tr th:only-of-type {\n",
       "        vertical-align: middle;\n",
       "    }\n",
       "\n",
       "    .dataframe tbody tr th {\n",
       "        vertical-align: top;\n",
       "    }\n",
       "\n",
       "    .dataframe thead th {\n",
       "        text-align: right;\n",
       "    }\n",
       "</style>\n",
       "<table border=\"1\" class=\"dataframe\">\n",
       "  <thead>\n",
       "    <tr style=\"text-align: right;\">\n",
       "      <th></th>\n",
       "      <th>cat</th>\n",
       "      <th>lr</th>\n",
       "      <th>kn</th>\n",
       "      <th>rf</th>\n",
       "      <th>gb</th>\n",
       "      <th>xgb</th>\n",
       "      <th>xgbrf</th>\n",
       "      <th>lgb</th>\n",
       "    </tr>\n",
       "  </thead>\n",
       "  <tbody>\n",
       "    <tr>\n",
       "      <th>0</th>\n",
       "      <td>3</td>\n",
       "      <td>3</td>\n",
       "      <td>3</td>\n",
       "      <td>3</td>\n",
       "      <td>3</td>\n",
       "      <td>3</td>\n",
       "      <td>3</td>\n",
       "      <td>3</td>\n",
       "    </tr>\n",
       "    <tr>\n",
       "      <th>1</th>\n",
       "      <td>3</td>\n",
       "      <td>3</td>\n",
       "      <td>3</td>\n",
       "      <td>3</td>\n",
       "      <td>3</td>\n",
       "      <td>3</td>\n",
       "      <td>3</td>\n",
       "      <td>3</td>\n",
       "    </tr>\n",
       "    <tr>\n",
       "      <th>2</th>\n",
       "      <td>3</td>\n",
       "      <td>3</td>\n",
       "      <td>3</td>\n",
       "      <td>3</td>\n",
       "      <td>3</td>\n",
       "      <td>3</td>\n",
       "      <td>2</td>\n",
       "      <td>3</td>\n",
       "    </tr>\n",
       "    <tr>\n",
       "      <th>3</th>\n",
       "      <td>3</td>\n",
       "      <td>3</td>\n",
       "      <td>3</td>\n",
       "      <td>3</td>\n",
       "      <td>3</td>\n",
       "      <td>3</td>\n",
       "      <td>3</td>\n",
       "      <td>3</td>\n",
       "    </tr>\n",
       "    <tr>\n",
       "      <th>4</th>\n",
       "      <td>1</td>\n",
       "      <td>1</td>\n",
       "      <td>1</td>\n",
       "      <td>1</td>\n",
       "      <td>1</td>\n",
       "      <td>1</td>\n",
       "      <td>1</td>\n",
       "      <td>1</td>\n",
       "    </tr>\n",
       "  </tbody>\n",
       "</table>\n",
       "</div>"
      ],
      "text/plain": [
       "   cat  lr  kn  rf  gb  xgb  xgbrf  lgb\n",
       "0    3   3   3   3   3    3      3    3\n",
       "1    3   3   3   3   3    3      3    3\n",
       "2    3   3   3   3   3    3      2    3\n",
       "3    3   3   3   3   3    3      3    3\n",
       "4    1   1   1   1   1    1      1    1"
      ]
     },
     "execution_count": 77,
     "metadata": {},
     "output_type": "execute_result"
    }
   ],
   "source": [
    "final_predictions.head()"
   ]
  },
  {
   "cell_type": "code",
   "execution_count": 78,
   "id": "7e9026ae",
   "metadata": {},
   "outputs": [],
   "source": [
    "mode = []\n",
    "for i in final_predictions.index:\n",
    "    mode.append(final_predictions.iloc[i].mode().tolist())"
   ]
  },
  {
   "cell_type": "code",
   "execution_count": 79,
   "id": "f759f9e4",
   "metadata": {},
   "outputs": [],
   "source": [
    "final_predictions['votings'] = mode"
   ]
  },
  {
   "cell_type": "code",
   "execution_count": 80,
   "id": "7e066daa",
   "metadata": {},
   "outputs": [],
   "source": [
    "fp = []\n",
    "for i in final_predictions.votings:\n",
    "    fp.append(i[0])\n",
    "final_predictions['votings'] = fp"
   ]
  },
  {
   "cell_type": "code",
   "execution_count": 81,
   "id": "7a864055",
   "metadata": {},
   "outputs": [
    {
     "data": {
      "text/html": [
       "<div>\n",
       "<style scoped>\n",
       "    .dataframe tbody tr th:only-of-type {\n",
       "        vertical-align: middle;\n",
       "    }\n",
       "\n",
       "    .dataframe tbody tr th {\n",
       "        vertical-align: top;\n",
       "    }\n",
       "\n",
       "    .dataframe thead th {\n",
       "        text-align: right;\n",
       "    }\n",
       "</style>\n",
       "<table border=\"1\" class=\"dataframe\">\n",
       "  <thead>\n",
       "    <tr style=\"text-align: right;\">\n",
       "      <th></th>\n",
       "      <th>cat</th>\n",
       "      <th>lr</th>\n",
       "      <th>kn</th>\n",
       "      <th>rf</th>\n",
       "      <th>gb</th>\n",
       "      <th>xgb</th>\n",
       "      <th>xgbrf</th>\n",
       "      <th>lgb</th>\n",
       "      <th>votings</th>\n",
       "    </tr>\n",
       "  </thead>\n",
       "  <tbody>\n",
       "    <tr>\n",
       "      <th>0</th>\n",
       "      <td>3</td>\n",
       "      <td>3</td>\n",
       "      <td>3</td>\n",
       "      <td>3</td>\n",
       "      <td>3</td>\n",
       "      <td>3</td>\n",
       "      <td>3</td>\n",
       "      <td>3</td>\n",
       "      <td>3</td>\n",
       "    </tr>\n",
       "    <tr>\n",
       "      <th>1</th>\n",
       "      <td>3</td>\n",
       "      <td>3</td>\n",
       "      <td>3</td>\n",
       "      <td>3</td>\n",
       "      <td>3</td>\n",
       "      <td>3</td>\n",
       "      <td>3</td>\n",
       "      <td>3</td>\n",
       "      <td>3</td>\n",
       "    </tr>\n",
       "    <tr>\n",
       "      <th>2</th>\n",
       "      <td>3</td>\n",
       "      <td>3</td>\n",
       "      <td>3</td>\n",
       "      <td>3</td>\n",
       "      <td>3</td>\n",
       "      <td>3</td>\n",
       "      <td>2</td>\n",
       "      <td>3</td>\n",
       "      <td>3</td>\n",
       "    </tr>\n",
       "    <tr>\n",
       "      <th>3</th>\n",
       "      <td>3</td>\n",
       "      <td>3</td>\n",
       "      <td>3</td>\n",
       "      <td>3</td>\n",
       "      <td>3</td>\n",
       "      <td>3</td>\n",
       "      <td>3</td>\n",
       "      <td>3</td>\n",
       "      <td>3</td>\n",
       "    </tr>\n",
       "    <tr>\n",
       "      <th>4</th>\n",
       "      <td>1</td>\n",
       "      <td>1</td>\n",
       "      <td>1</td>\n",
       "      <td>1</td>\n",
       "      <td>1</td>\n",
       "      <td>1</td>\n",
       "      <td>1</td>\n",
       "      <td>1</td>\n",
       "      <td>1</td>\n",
       "    </tr>\n",
       "  </tbody>\n",
       "</table>\n",
       "</div>"
      ],
      "text/plain": [
       "   cat  lr  kn  rf  gb  xgb  xgbrf  lgb  votings\n",
       "0    3   3   3   3   3    3      3    3        3\n",
       "1    3   3   3   3   3    3      3    3        3\n",
       "2    3   3   3   3   3    3      2    3        3\n",
       "3    3   3   3   3   3    3      3    3        3\n",
       "4    1   1   1   1   1    1      1    1        1"
      ]
     },
     "execution_count": 81,
     "metadata": {},
     "output_type": "execute_result"
    }
   ],
   "source": [
    "final_predictions.head()"
   ]
  },
  {
   "cell_type": "code",
   "execution_count": 82,
   "id": "e6d2fedd",
   "metadata": {},
   "outputs": [],
   "source": [
    "final_data = pd.DataFrame({'id':ids , 'price_range':final_predictions['votings']})"
   ]
  },
  {
   "cell_type": "code",
   "execution_count": 83,
   "id": "7e07b42d",
   "metadata": {},
   "outputs": [
    {
     "data": {
      "text/plain": [
       "3    263\n",
       "0    261\n",
       "2    252\n",
       "1    224\n",
       "Name: price_range, dtype: int64"
      ]
     },
     "execution_count": 83,
     "metadata": {},
     "output_type": "execute_result"
    }
   ],
   "source": [
    "final_data.price_range.value_counts()"
   ]
  },
  {
   "cell_type": "code",
   "execution_count": 84,
   "id": "fb9e6b3f",
   "metadata": {},
   "outputs": [
    {
     "data": {
      "text/html": [
       "<div>\n",
       "<style scoped>\n",
       "    .dataframe tbody tr th:only-of-type {\n",
       "        vertical-align: middle;\n",
       "    }\n",
       "\n",
       "    .dataframe tbody tr th {\n",
       "        vertical-align: top;\n",
       "    }\n",
       "\n",
       "    .dataframe thead th {\n",
       "        text-align: right;\n",
       "    }\n",
       "</style>\n",
       "<table border=\"1\" class=\"dataframe\">\n",
       "  <thead>\n",
       "    <tr style=\"text-align: right;\">\n",
       "      <th></th>\n",
       "      <th>id</th>\n",
       "      <th>price_range</th>\n",
       "    </tr>\n",
       "  </thead>\n",
       "  <tbody>\n",
       "    <tr>\n",
       "      <th>0</th>\n",
       "      <td>1</td>\n",
       "      <td>3</td>\n",
       "    </tr>\n",
       "    <tr>\n",
       "      <th>1</th>\n",
       "      <td>2</td>\n",
       "      <td>3</td>\n",
       "    </tr>\n",
       "    <tr>\n",
       "      <th>2</th>\n",
       "      <td>3</td>\n",
       "      <td>3</td>\n",
       "    </tr>\n",
       "    <tr>\n",
       "      <th>3</th>\n",
       "      <td>4</td>\n",
       "      <td>3</td>\n",
       "    </tr>\n",
       "    <tr>\n",
       "      <th>4</th>\n",
       "      <td>5</td>\n",
       "      <td>1</td>\n",
       "    </tr>\n",
       "  </tbody>\n",
       "</table>\n",
       "</div>"
      ],
      "text/plain": [
       "   id  price_range\n",
       "0   1            3\n",
       "1   2            3\n",
       "2   3            3\n",
       "3   4            3\n",
       "4   5            1"
      ]
     },
     "execution_count": 84,
     "metadata": {},
     "output_type": "execute_result"
    }
   ],
   "source": [
    "final_data.head()"
   ]
  },
  {
   "cell_type": "markdown",
   "id": "aefe3ee7",
   "metadata": {},
   "source": [
    "### Really wish there's a way to validate the final outcomes! "
   ]
  }
 ],
 "metadata": {
  "kernelspec": {
   "display_name": "Python 3",
   "language": "python",
   "name": "python3"
  },
  "language_info": {
   "codemirror_mode": {
    "name": "ipython",
    "version": 3
   },
   "file_extension": ".py",
   "mimetype": "text/x-python",
   "name": "python",
   "nbconvert_exporter": "python",
   "pygments_lexer": "ipython3",
   "version": "3.7.6"
  }
 },
 "nbformat": 4,
 "nbformat_minor": 5
}
